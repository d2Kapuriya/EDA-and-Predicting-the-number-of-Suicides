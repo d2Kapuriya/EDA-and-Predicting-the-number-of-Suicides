{
  "nbformat": 4,
  "nbformat_minor": 0,
  "metadata": {
    "colab": {
      "name": "EDA and predicting the number of suicides - final.ipynb",
      "provenance": [],
      "collapsed_sections": []
    },
    "kernelspec": {
      "name": "python3",
      "display_name": "Python 3"
    }
  },
  "cells": [
    {
      "cell_type": "code",
      "metadata": {
        "id": "iz52wY8-3S4X",
        "outputId": "cd518069-a87a-4ec1-cd8e-066c28064fe1",
        "colab": {
          "base_uri": "https://localhost:8080/"
        }
      },
      "source": [
        "from google.colab import drive\n",
        "drive.mount('/content/drive')"
      ],
      "execution_count": 1,
      "outputs": [
        {
          "output_type": "stream",
          "text": [
            "Mounted at /content/drive\n"
          ],
          "name": "stdout"
        }
      ]
    },
    {
      "cell_type": "code",
      "metadata": {
        "id": "LF_Ww2fiwir-"
      },
      "source": [
        "import pandas as pd\n",
        "import numpy as np\n",
        "from sklearn.model_selection import train_test_split\n",
        "from sklearn.preprocessing import LabelEncoder\n",
        "import matplotlib.pyplot as plt\n",
        "import seaborn as sns\n",
        "import pickle\n",
        "from google.colab import files"
      ],
      "execution_count": 2,
      "outputs": []
    },
    {
      "cell_type": "code",
      "metadata": {
        "id": "huvGGAAN3Vpk",
        "outputId": "00002a13-9d08-42c0-8dea-33643797e509",
        "colab": {
          "base_uri": "https://localhost:8080/",
          "height": 195
        }
      },
      "source": [
        "df = pd.read_csv('/content/drive/My Drive/World Wide Suicide Prediction/master.csv') \n",
        "df.head()"
      ],
      "execution_count": 3,
      "outputs": [
        {
          "output_type": "execute_result",
          "data": {
            "text/html": [
              "<div>\n",
              "<style scoped>\n",
              "    .dataframe tbody tr th:only-of-type {\n",
              "        vertical-align: middle;\n",
              "    }\n",
              "\n",
              "    .dataframe tbody tr th {\n",
              "        vertical-align: top;\n",
              "    }\n",
              "\n",
              "    .dataframe thead th {\n",
              "        text-align: right;\n",
              "    }\n",
              "</style>\n",
              "<table border=\"1\" class=\"dataframe\">\n",
              "  <thead>\n",
              "    <tr style=\"text-align: right;\">\n",
              "      <th></th>\n",
              "      <th>country</th>\n",
              "      <th>year</th>\n",
              "      <th>sex</th>\n",
              "      <th>age</th>\n",
              "      <th>suicides_no</th>\n",
              "      <th>population</th>\n",
              "      <th>suicides/100k pop</th>\n",
              "      <th>country-year</th>\n",
              "      <th>HDI for year</th>\n",
              "      <th>gdp_for_year ($)</th>\n",
              "      <th>gdp_per_capita ($)</th>\n",
              "      <th>generation</th>\n",
              "    </tr>\n",
              "  </thead>\n",
              "  <tbody>\n",
              "    <tr>\n",
              "      <th>0</th>\n",
              "      <td>Albania</td>\n",
              "      <td>1987</td>\n",
              "      <td>male</td>\n",
              "      <td>15-24 years</td>\n",
              "      <td>21</td>\n",
              "      <td>312900</td>\n",
              "      <td>6.71</td>\n",
              "      <td>Albania1987</td>\n",
              "      <td>NaN</td>\n",
              "      <td>2,156,624,900</td>\n",
              "      <td>796</td>\n",
              "      <td>Generation X</td>\n",
              "    </tr>\n",
              "    <tr>\n",
              "      <th>1</th>\n",
              "      <td>Albania</td>\n",
              "      <td>1987</td>\n",
              "      <td>male</td>\n",
              "      <td>35-54 years</td>\n",
              "      <td>16</td>\n",
              "      <td>308000</td>\n",
              "      <td>5.19</td>\n",
              "      <td>Albania1987</td>\n",
              "      <td>NaN</td>\n",
              "      <td>2,156,624,900</td>\n",
              "      <td>796</td>\n",
              "      <td>Silent</td>\n",
              "    </tr>\n",
              "    <tr>\n",
              "      <th>2</th>\n",
              "      <td>Albania</td>\n",
              "      <td>1987</td>\n",
              "      <td>female</td>\n",
              "      <td>15-24 years</td>\n",
              "      <td>14</td>\n",
              "      <td>289700</td>\n",
              "      <td>4.83</td>\n",
              "      <td>Albania1987</td>\n",
              "      <td>NaN</td>\n",
              "      <td>2,156,624,900</td>\n",
              "      <td>796</td>\n",
              "      <td>Generation X</td>\n",
              "    </tr>\n",
              "    <tr>\n",
              "      <th>3</th>\n",
              "      <td>Albania</td>\n",
              "      <td>1987</td>\n",
              "      <td>male</td>\n",
              "      <td>75+ years</td>\n",
              "      <td>1</td>\n",
              "      <td>21800</td>\n",
              "      <td>4.59</td>\n",
              "      <td>Albania1987</td>\n",
              "      <td>NaN</td>\n",
              "      <td>2,156,624,900</td>\n",
              "      <td>796</td>\n",
              "      <td>G.I. Generation</td>\n",
              "    </tr>\n",
              "    <tr>\n",
              "      <th>4</th>\n",
              "      <td>Albania</td>\n",
              "      <td>1987</td>\n",
              "      <td>male</td>\n",
              "      <td>25-34 years</td>\n",
              "      <td>9</td>\n",
              "      <td>274300</td>\n",
              "      <td>3.28</td>\n",
              "      <td>Albania1987</td>\n",
              "      <td>NaN</td>\n",
              "      <td>2,156,624,900</td>\n",
              "      <td>796</td>\n",
              "      <td>Boomers</td>\n",
              "    </tr>\n",
              "  </tbody>\n",
              "</table>\n",
              "</div>"
            ],
            "text/plain": [
              "   country  year  ... gdp_per_capita ($)       generation\n",
              "0  Albania  1987  ...                796     Generation X\n",
              "1  Albania  1987  ...                796           Silent\n",
              "2  Albania  1987  ...                796     Generation X\n",
              "3  Albania  1987  ...                796  G.I. Generation\n",
              "4  Albania  1987  ...                796          Boomers\n",
              "\n",
              "[5 rows x 12 columns]"
            ]
          },
          "metadata": {
            "tags": []
          },
          "execution_count": 3
        }
      ]
    },
    {
      "cell_type": "code",
      "metadata": {
        "id": "AVlaZ8iYeH1A",
        "outputId": "a9e6b52c-5c6e-4aec-88f3-506722fdfbb1",
        "colab": {
          "base_uri": "https://localhost:8080/"
        }
      },
      "source": [
        "df.info()"
      ],
      "execution_count": 4,
      "outputs": [
        {
          "output_type": "stream",
          "text": [
            "<class 'pandas.core.frame.DataFrame'>\n",
            "RangeIndex: 27820 entries, 0 to 27819\n",
            "Data columns (total 12 columns):\n",
            " #   Column              Non-Null Count  Dtype  \n",
            "---  ------              --------------  -----  \n",
            " 0   country             27820 non-null  object \n",
            " 1   year                27820 non-null  int64  \n",
            " 2   sex                 27820 non-null  object \n",
            " 3   age                 27820 non-null  object \n",
            " 4   suicides_no         27820 non-null  int64  \n",
            " 5   population          27820 non-null  int64  \n",
            " 6   suicides/100k pop   27820 non-null  float64\n",
            " 7   country-year        27820 non-null  object \n",
            " 8   HDI for year        8364 non-null   float64\n",
            " 9    gdp_for_year ($)   27820 non-null  object \n",
            " 10  gdp_per_capita ($)  27820 non-null  int64  \n",
            " 11  generation          27820 non-null  object \n",
            "dtypes: float64(2), int64(4), object(6)\n",
            "memory usage: 2.5+ MB\n"
          ],
          "name": "stdout"
        }
      ]
    },
    {
      "cell_type": "code",
      "metadata": {
        "id": "AhOVolXIeJan",
        "outputId": "75e8d4be-2612-460f-b8f7-750ea17edce7",
        "colab": {
          "base_uri": "https://localhost:8080/",
          "height": 195
        }
      },
      "source": [
        "#renaming the columns\n",
        "df.columns=['country','year','gender','age_group','suicide_number','population','sui_pop','country_year','hdi','gdp_for_year','gdp_per_capita','generation']\n",
        "df.head()"
      ],
      "execution_count": 5,
      "outputs": [
        {
          "output_type": "execute_result",
          "data": {
            "text/html": [
              "<div>\n",
              "<style scoped>\n",
              "    .dataframe tbody tr th:only-of-type {\n",
              "        vertical-align: middle;\n",
              "    }\n",
              "\n",
              "    .dataframe tbody tr th {\n",
              "        vertical-align: top;\n",
              "    }\n",
              "\n",
              "    .dataframe thead th {\n",
              "        text-align: right;\n",
              "    }\n",
              "</style>\n",
              "<table border=\"1\" class=\"dataframe\">\n",
              "  <thead>\n",
              "    <tr style=\"text-align: right;\">\n",
              "      <th></th>\n",
              "      <th>country</th>\n",
              "      <th>year</th>\n",
              "      <th>gender</th>\n",
              "      <th>age_group</th>\n",
              "      <th>suicide_number</th>\n",
              "      <th>population</th>\n",
              "      <th>sui_pop</th>\n",
              "      <th>country_year</th>\n",
              "      <th>hdi</th>\n",
              "      <th>gdp_for_year</th>\n",
              "      <th>gdp_per_capita</th>\n",
              "      <th>generation</th>\n",
              "    </tr>\n",
              "  </thead>\n",
              "  <tbody>\n",
              "    <tr>\n",
              "      <th>0</th>\n",
              "      <td>Albania</td>\n",
              "      <td>1987</td>\n",
              "      <td>male</td>\n",
              "      <td>15-24 years</td>\n",
              "      <td>21</td>\n",
              "      <td>312900</td>\n",
              "      <td>6.71</td>\n",
              "      <td>Albania1987</td>\n",
              "      <td>NaN</td>\n",
              "      <td>2,156,624,900</td>\n",
              "      <td>796</td>\n",
              "      <td>Generation X</td>\n",
              "    </tr>\n",
              "    <tr>\n",
              "      <th>1</th>\n",
              "      <td>Albania</td>\n",
              "      <td>1987</td>\n",
              "      <td>male</td>\n",
              "      <td>35-54 years</td>\n",
              "      <td>16</td>\n",
              "      <td>308000</td>\n",
              "      <td>5.19</td>\n",
              "      <td>Albania1987</td>\n",
              "      <td>NaN</td>\n",
              "      <td>2,156,624,900</td>\n",
              "      <td>796</td>\n",
              "      <td>Silent</td>\n",
              "    </tr>\n",
              "    <tr>\n",
              "      <th>2</th>\n",
              "      <td>Albania</td>\n",
              "      <td>1987</td>\n",
              "      <td>female</td>\n",
              "      <td>15-24 years</td>\n",
              "      <td>14</td>\n",
              "      <td>289700</td>\n",
              "      <td>4.83</td>\n",
              "      <td>Albania1987</td>\n",
              "      <td>NaN</td>\n",
              "      <td>2,156,624,900</td>\n",
              "      <td>796</td>\n",
              "      <td>Generation X</td>\n",
              "    </tr>\n",
              "    <tr>\n",
              "      <th>3</th>\n",
              "      <td>Albania</td>\n",
              "      <td>1987</td>\n",
              "      <td>male</td>\n",
              "      <td>75+ years</td>\n",
              "      <td>1</td>\n",
              "      <td>21800</td>\n",
              "      <td>4.59</td>\n",
              "      <td>Albania1987</td>\n",
              "      <td>NaN</td>\n",
              "      <td>2,156,624,900</td>\n",
              "      <td>796</td>\n",
              "      <td>G.I. Generation</td>\n",
              "    </tr>\n",
              "    <tr>\n",
              "      <th>4</th>\n",
              "      <td>Albania</td>\n",
              "      <td>1987</td>\n",
              "      <td>male</td>\n",
              "      <td>25-34 years</td>\n",
              "      <td>9</td>\n",
              "      <td>274300</td>\n",
              "      <td>3.28</td>\n",
              "      <td>Albania1987</td>\n",
              "      <td>NaN</td>\n",
              "      <td>2,156,624,900</td>\n",
              "      <td>796</td>\n",
              "      <td>Boomers</td>\n",
              "    </tr>\n",
              "  </tbody>\n",
              "</table>\n",
              "</div>"
            ],
            "text/plain": [
              "   country  year  gender  ...   gdp_for_year  gdp_per_capita       generation\n",
              "0  Albania  1987    male  ...  2,156,624,900             796     Generation X\n",
              "1  Albania  1987    male  ...  2,156,624,900             796           Silent\n",
              "2  Albania  1987  female  ...  2,156,624,900             796     Generation X\n",
              "3  Albania  1987    male  ...  2,156,624,900             796  G.I. Generation\n",
              "4  Albania  1987    male  ...  2,156,624,900             796          Boomers\n",
              "\n",
              "[5 rows x 12 columns]"
            ]
          },
          "metadata": {
            "tags": []
          },
          "execution_count": 5
        }
      ]
    },
    {
      "cell_type": "markdown",
      "metadata": {
        "id": "Gerbmt5ceZs4"
      },
      "source": [
        "# Data visualization"
      ]
    },
    {
      "cell_type": "code",
      "metadata": {
        "id": "14HVkxEte0N4",
        "outputId": "1b96e395-3657-4192-ae2d-b7c37fc86e8b",
        "colab": {
          "base_uri": "https://localhost:8080/",
          "height": 998
        }
      },
      "source": [
        "## Number of suicides in 1985\n",
        "year_1985 = df[(df['year'] == 1985)]\n",
        "year_1985 = year_1985.groupby('country')[['suicide_number']].sum().reset_index()\n",
        "\n",
        "## Sorting values in ascending order\n",
        "year_1985 = year_1985.sort_values(by='suicide_number', ascending=False)\n",
        "\n",
        "## Styling output dataframe\n",
        "year_1985.style.background_gradient(cmap='Purples', subset=['suicide_number'])"
      ],
      "execution_count": 6,
      "outputs": [
        {
          "output_type": "execute_result",
          "data": {
            "text/html": [
              "<style  type=\"text/css\" >\n",
              "#T_7eee4fd2_1e47_11eb_bf20_0242ac1c0002row0_col1{\n",
              "            background-color:  #3f007d;\n",
              "            color:  #f1f1f1;\n",
              "        }#T_7eee4fd2_1e47_11eb_bf20_0242ac1c0002row1_col1{\n",
              "            background-color:  #63439c;\n",
              "            color:  #f1f1f1;\n",
              "        }#T_7eee4fd2_1e47_11eb_bf20_0242ac1c0002row2_col1{\n",
              "            background-color:  #b0afd4;\n",
              "            color:  #000000;\n",
              "        }#T_7eee4fd2_1e47_11eb_bf20_0242ac1c0002row3_col1{\n",
              "            background-color:  #e4e3f0;\n",
              "            color:  #000000;\n",
              "        }#T_7eee4fd2_1e47_11eb_bf20_0242ac1c0002row4_col1{\n",
              "            background-color:  #e7e6f1;\n",
              "            color:  #000000;\n",
              "        }#T_7eee4fd2_1e47_11eb_bf20_0242ac1c0002row5_col1{\n",
              "            background-color:  #e9e8f2;\n",
              "            color:  #000000;\n",
              "        }#T_7eee4fd2_1e47_11eb_bf20_0242ac1c0002row6_col1{\n",
              "            background-color:  #ecebf4;\n",
              "            color:  #000000;\n",
              "        }#T_7eee4fd2_1e47_11eb_bf20_0242ac1c0002row7_col1{\n",
              "            background-color:  #efedf5;\n",
              "            color:  #000000;\n",
              "        }#T_7eee4fd2_1e47_11eb_bf20_0242ac1c0002row8_col1{\n",
              "            background-color:  #f1eff6;\n",
              "            color:  #000000;\n",
              "        }#T_7eee4fd2_1e47_11eb_bf20_0242ac1c0002row9_col1{\n",
              "            background-color:  #f2f0f7;\n",
              "            color:  #000000;\n",
              "        }#T_7eee4fd2_1e47_11eb_bf20_0242ac1c0002row10_col1{\n",
              "            background-color:  #f3f2f8;\n",
              "            color:  #000000;\n",
              "        }#T_7eee4fd2_1e47_11eb_bf20_0242ac1c0002row11_col1{\n",
              "            background-color:  #f4f3f8;\n",
              "            color:  #000000;\n",
              "        }#T_7eee4fd2_1e47_11eb_bf20_0242ac1c0002row12_col1{\n",
              "            background-color:  #f5f3f8;\n",
              "            color:  #000000;\n",
              "        }#T_7eee4fd2_1e47_11eb_bf20_0242ac1c0002row13_col1,#T_7eee4fd2_1e47_11eb_bf20_0242ac1c0002row14_col1{\n",
              "            background-color:  #f5f4f9;\n",
              "            color:  #000000;\n",
              "        }#T_7eee4fd2_1e47_11eb_bf20_0242ac1c0002row15_col1{\n",
              "            background-color:  #f6f5f9;\n",
              "            color:  #000000;\n",
              "        }#T_7eee4fd2_1e47_11eb_bf20_0242ac1c0002row16_col1{\n",
              "            background-color:  #f7f5fa;\n",
              "            color:  #000000;\n",
              "        }#T_7eee4fd2_1e47_11eb_bf20_0242ac1c0002row17_col1{\n",
              "            background-color:  #f7f6fa;\n",
              "            color:  #000000;\n",
              "        }#T_7eee4fd2_1e47_11eb_bf20_0242ac1c0002row18_col1,#T_7eee4fd2_1e47_11eb_bf20_0242ac1c0002row19_col1{\n",
              "            background-color:  #f9f7fb;\n",
              "            color:  #000000;\n",
              "        }#T_7eee4fd2_1e47_11eb_bf20_0242ac1c0002row20_col1{\n",
              "            background-color:  #faf9fc;\n",
              "            color:  #000000;\n",
              "        }#T_7eee4fd2_1e47_11eb_bf20_0242ac1c0002row21_col1,#T_7eee4fd2_1e47_11eb_bf20_0242ac1c0002row22_col1,#T_7eee4fd2_1e47_11eb_bf20_0242ac1c0002row23_col1,#T_7eee4fd2_1e47_11eb_bf20_0242ac1c0002row24_col1,#T_7eee4fd2_1e47_11eb_bf20_0242ac1c0002row25_col1,#T_7eee4fd2_1e47_11eb_bf20_0242ac1c0002row26_col1,#T_7eee4fd2_1e47_11eb_bf20_0242ac1c0002row27_col1,#T_7eee4fd2_1e47_11eb_bf20_0242ac1c0002row28_col1{\n",
              "            background-color:  #fbfafc;\n",
              "            color:  #000000;\n",
              "        }#T_7eee4fd2_1e47_11eb_bf20_0242ac1c0002row29_col1,#T_7eee4fd2_1e47_11eb_bf20_0242ac1c0002row30_col1,#T_7eee4fd2_1e47_11eb_bf20_0242ac1c0002row31_col1,#T_7eee4fd2_1e47_11eb_bf20_0242ac1c0002row32_col1,#T_7eee4fd2_1e47_11eb_bf20_0242ac1c0002row33_col1,#T_7eee4fd2_1e47_11eb_bf20_0242ac1c0002row34_col1,#T_7eee4fd2_1e47_11eb_bf20_0242ac1c0002row35_col1,#T_7eee4fd2_1e47_11eb_bf20_0242ac1c0002row36_col1,#T_7eee4fd2_1e47_11eb_bf20_0242ac1c0002row37_col1,#T_7eee4fd2_1e47_11eb_bf20_0242ac1c0002row38_col1,#T_7eee4fd2_1e47_11eb_bf20_0242ac1c0002row39_col1,#T_7eee4fd2_1e47_11eb_bf20_0242ac1c0002row40_col1,#T_7eee4fd2_1e47_11eb_bf20_0242ac1c0002row41_col1,#T_7eee4fd2_1e47_11eb_bf20_0242ac1c0002row42_col1,#T_7eee4fd2_1e47_11eb_bf20_0242ac1c0002row43_col1,#T_7eee4fd2_1e47_11eb_bf20_0242ac1c0002row44_col1,#T_7eee4fd2_1e47_11eb_bf20_0242ac1c0002row45_col1,#T_7eee4fd2_1e47_11eb_bf20_0242ac1c0002row46_col1,#T_7eee4fd2_1e47_11eb_bf20_0242ac1c0002row47_col1{\n",
              "            background-color:  #fcfbfd;\n",
              "            color:  #000000;\n",
              "        }</style><table id=\"T_7eee4fd2_1e47_11eb_bf20_0242ac1c0002\" ><thead>    <tr>        <th class=\"blank level0\" ></th>        <th class=\"col_heading level0 col0\" >country</th>        <th class=\"col_heading level0 col1\" >suicide_number</th>    </tr></thead><tbody>\n",
              "                <tr>\n",
              "                        <th id=\"T_7eee4fd2_1e47_11eb_bf20_0242ac1c0002level0_row0\" class=\"row_heading level0 row0\" >46</th>\n",
              "                        <td id=\"T_7eee4fd2_1e47_11eb_bf20_0242ac1c0002row0_col0\" class=\"data row0 col0\" >United States</td>\n",
              "                        <td id=\"T_7eee4fd2_1e47_11eb_bf20_0242ac1c0002row0_col1\" class=\"data row0 col1\" >29446</td>\n",
              "            </tr>\n",
              "            <tr>\n",
              "                        <th id=\"T_7eee4fd2_1e47_11eb_bf20_0242ac1c0002level0_row1\" class=\"row_heading level0 row1\" >24</th>\n",
              "                        <td id=\"T_7eee4fd2_1e47_11eb_bf20_0242ac1c0002row1_col0\" class=\"data row1 col0\" >Japan</td>\n",
              "                        <td id=\"T_7eee4fd2_1e47_11eb_bf20_0242ac1c0002row1_col1\" class=\"data row1 col1\" >23257</td>\n",
              "            </tr>\n",
              "            <tr>\n",
              "                        <th id=\"T_7eee4fd2_1e47_11eb_bf20_0242ac1c0002level0_row2\" class=\"row_heading level0 row2\" >16</th>\n",
              "                        <td id=\"T_7eee4fd2_1e47_11eb_bf20_0242ac1c0002row2_col0\" class=\"data row2 col0\" >France</td>\n",
              "                        <td id=\"T_7eee4fd2_1e47_11eb_bf20_0242ac1c0002row2_col1\" class=\"data row2 col1\" >12501</td>\n",
              "            </tr>\n",
              "            <tr>\n",
              "                        <th id=\"T_7eee4fd2_1e47_11eb_bf20_0242ac1c0002level0_row3\" class=\"row_heading level0 row3\" >41</th>\n",
              "                        <td id=\"T_7eee4fd2_1e47_11eb_bf20_0242ac1c0002row3_col0\" class=\"data row3 col0\" >Sri Lanka</td>\n",
              "                        <td id=\"T_7eee4fd2_1e47_11eb_bf20_0242ac1c0002row3_col1\" class=\"data row3 col1\" >5668</td>\n",
              "            </tr>\n",
              "            <tr>\n",
              "                        <th id=\"T_7eee4fd2_1e47_11eb_bf20_0242ac1c0002level0_row4\" class=\"row_heading level0 row4\" >45</th>\n",
              "                        <td id=\"T_7eee4fd2_1e47_11eb_bf20_0242ac1c0002row4_col0\" class=\"data row4 col0\" >United Kingdom</td>\n",
              "                        <td id=\"T_7eee4fd2_1e47_11eb_bf20_0242ac1c0002row4_col1\" class=\"data row4 col1\" >5105</td>\n",
              "            </tr>\n",
              "            <tr>\n",
              "                        <th id=\"T_7eee4fd2_1e47_11eb_bf20_0242ac1c0002level0_row5\" class=\"row_heading level0 row5\" >22</th>\n",
              "                        <td id=\"T_7eee4fd2_1e47_11eb_bf20_0242ac1c0002row5_col0\" class=\"data row5 col0\" >Italy</td>\n",
              "                        <td id=\"T_7eee4fd2_1e47_11eb_bf20_0242ac1c0002row5_col1\" class=\"data row5 col1\" >4759</td>\n",
              "            </tr>\n",
              "            <tr>\n",
              "                        <th id=\"T_7eee4fd2_1e47_11eb_bf20_0242ac1c0002level0_row6\" class=\"row_heading level0 row6\" >8</th>\n",
              "                        <td id=\"T_7eee4fd2_1e47_11eb_bf20_0242ac1c0002row6_col0\" class=\"data row6 col0\" >Brazil</td>\n",
              "                        <td id=\"T_7eee4fd2_1e47_11eb_bf20_0242ac1c0002row6_col1\" class=\"data row6 col1\" >4228</td>\n",
              "            </tr>\n",
              "            <tr>\n",
              "                        <th id=\"T_7eee4fd2_1e47_11eb_bf20_0242ac1c0002level0_row7\" class=\"row_heading level0 row7\" >36</th>\n",
              "                        <td id=\"T_7eee4fd2_1e47_11eb_bf20_0242ac1c0002row7_col0\" class=\"data row7 col0\" >Republic of Korea</td>\n",
              "                        <td id=\"T_7eee4fd2_1e47_11eb_bf20_0242ac1c0002row7_col1\" class=\"data row7 col1\" >3689</td>\n",
              "            </tr>\n",
              "            <tr>\n",
              "                        <th id=\"T_7eee4fd2_1e47_11eb_bf20_0242ac1c0002level0_row8\" class=\"row_heading level0 row8\" >10</th>\n",
              "                        <td id=\"T_7eee4fd2_1e47_11eb_bf20_0242ac1c0002row8_col0\" class=\"data row8 col0\" >Canada</td>\n",
              "                        <td id=\"T_7eee4fd2_1e47_11eb_bf20_0242ac1c0002row8_col1\" class=\"data row8 col1\" >3258</td>\n",
              "            </tr>\n",
              "            <tr>\n",
              "                        <th id=\"T_7eee4fd2_1e47_11eb_bf20_0242ac1c0002level0_row9\" class=\"row_heading level0 row9\" >43</th>\n",
              "                        <td id=\"T_7eee4fd2_1e47_11eb_bf20_0242ac1c0002row9_col0\" class=\"data row9 col0\" >Thailand</td>\n",
              "                        <td id=\"T_7eee4fd2_1e47_11eb_bf20_0242ac1c0002row9_col1\" class=\"data row9 col1\" >2982</td>\n",
              "            </tr>\n",
              "            <tr>\n",
              "                        <th id=\"T_7eee4fd2_1e47_11eb_bf20_0242ac1c0002level0_row10\" class=\"row_heading level0 row10\" >40</th>\n",
              "                        <td id=\"T_7eee4fd2_1e47_11eb_bf20_0242ac1c0002row10_col0\" class=\"data row10 col0\" >Spain</td>\n",
              "                        <td id=\"T_7eee4fd2_1e47_11eb_bf20_0242ac1c0002row10_col1\" class=\"data row10 col1\" >2514</td>\n",
              "            </tr>\n",
              "            <tr>\n",
              "                        <th id=\"T_7eee4fd2_1e47_11eb_bf20_0242ac1c0002level0_row11\" class=\"row_heading level0 row11\" >7</th>\n",
              "                        <td id=\"T_7eee4fd2_1e47_11eb_bf20_0242ac1c0002row11_col0\" class=\"data row11 col0\" >Belgium</td>\n",
              "                        <td id=\"T_7eee4fd2_1e47_11eb_bf20_0242ac1c0002row11_col1\" class=\"data row11 col1\" >2281</td>\n",
              "            </tr>\n",
              "            <tr>\n",
              "                        <th id=\"T_7eee4fd2_1e47_11eb_bf20_0242ac1c0002level0_row12\" class=\"row_heading level0 row12\" >3</th>\n",
              "                        <td id=\"T_7eee4fd2_1e47_11eb_bf20_0242ac1c0002row12_col0\" class=\"data row12 col0\" >Austria</td>\n",
              "                        <td id=\"T_7eee4fd2_1e47_11eb_bf20_0242ac1c0002row12_col1\" class=\"data row12 col1\" >2091</td>\n",
              "            </tr>\n",
              "            <tr>\n",
              "                        <th id=\"T_7eee4fd2_1e47_11eb_bf20_0242ac1c0002level0_row13\" class=\"row_heading level0 row13\" >1</th>\n",
              "                        <td id=\"T_7eee4fd2_1e47_11eb_bf20_0242ac1c0002row13_col0\" class=\"data row13 col0\" >Argentina</td>\n",
              "                        <td id=\"T_7eee4fd2_1e47_11eb_bf20_0242ac1c0002row13_col1\" class=\"data row13 col1\" >1988</td>\n",
              "            </tr>\n",
              "            <tr>\n",
              "                        <th id=\"T_7eee4fd2_1e47_11eb_bf20_0242ac1c0002level0_row14\" class=\"row_heading level0 row14\" >2</th>\n",
              "                        <td id=\"T_7eee4fd2_1e47_11eb_bf20_0242ac1c0002row14_col0\" class=\"data row14 col0\" >Australia</td>\n",
              "                        <td id=\"T_7eee4fd2_1e47_11eb_bf20_0242ac1c0002row14_col1\" class=\"data row14 col1\" >1861</td>\n",
              "            </tr>\n",
              "            <tr>\n",
              "                        <th id=\"T_7eee4fd2_1e47_11eb_bf20_0242ac1c0002level0_row15\" class=\"row_heading level0 row15\" >30</th>\n",
              "                        <td id=\"T_7eee4fd2_1e47_11eb_bf20_0242ac1c0002row15_col0\" class=\"data row15 col0\" >Netherlands</td>\n",
              "                        <td id=\"T_7eee4fd2_1e47_11eb_bf20_0242ac1c0002row15_col1\" class=\"data row15 col1\" >1638</td>\n",
              "            </tr>\n",
              "            <tr>\n",
              "                        <th id=\"T_7eee4fd2_1e47_11eb_bf20_0242ac1c0002level0_row16\" class=\"row_heading level0 row16\" >29</th>\n",
              "                        <td id=\"T_7eee4fd2_1e47_11eb_bf20_0242ac1c0002row16_col0\" class=\"data row16 col0\" >Mexico</td>\n",
              "                        <td id=\"T_7eee4fd2_1e47_11eb_bf20_0242ac1c0002row16_col1\" class=\"data row16 col1\" >1544</td>\n",
              "            </tr>\n",
              "            <tr>\n",
              "                        <th id=\"T_7eee4fd2_1e47_11eb_bf20_0242ac1c0002level0_row17\" class=\"row_heading level0 row17\" >9</th>\n",
              "                        <td id=\"T_7eee4fd2_1e47_11eb_bf20_0242ac1c0002row17_col0\" class=\"data row17 col0\" >Bulgaria</td>\n",
              "                        <td id=\"T_7eee4fd2_1e47_11eb_bf20_0242ac1c0002row17_col1\" class=\"data row17 col1\" >1456</td>\n",
              "            </tr>\n",
              "            <tr>\n",
              "                        <th id=\"T_7eee4fd2_1e47_11eb_bf20_0242ac1c0002level0_row18\" class=\"row_heading level0 row18\" >12</th>\n",
              "                        <td id=\"T_7eee4fd2_1e47_11eb_bf20_0242ac1c0002row18_col0\" class=\"data row18 col0\" >Colombia</td>\n",
              "                        <td id=\"T_7eee4fd2_1e47_11eb_bf20_0242ac1c0002row18_col1\" class=\"data row18 col1\" >1001</td>\n",
              "            </tr>\n",
              "            <tr>\n",
              "                        <th id=\"T_7eee4fd2_1e47_11eb_bf20_0242ac1c0002level0_row19\" class=\"row_heading level0 row19\" >34</th>\n",
              "                        <td id=\"T_7eee4fd2_1e47_11eb_bf20_0242ac1c0002row19_col0\" class=\"data row19 col0\" >Portugal</td>\n",
              "                        <td id=\"T_7eee4fd2_1e47_11eb_bf20_0242ac1c0002row19_col1\" class=\"data row19 col1\" >983</td>\n",
              "            </tr>\n",
              "            <tr>\n",
              "                        <th id=\"T_7eee4fd2_1e47_11eb_bf20_0242ac1c0002level0_row20\" class=\"row_heading level0 row20\" >11</th>\n",
              "                        <td id=\"T_7eee4fd2_1e47_11eb_bf20_0242ac1c0002row20_col0\" class=\"data row20 col0\" >Chile</td>\n",
              "                        <td id=\"T_7eee4fd2_1e47_11eb_bf20_0242ac1c0002row20_col1\" class=\"data row20 col1\" >683</td>\n",
              "            </tr>\n",
              "            <tr>\n",
              "                        <th id=\"T_7eee4fd2_1e47_11eb_bf20_0242ac1c0002level0_row21\" class=\"row_heading level0 row21\" >17</th>\n",
              "                        <td id=\"T_7eee4fd2_1e47_11eb_bf20_0242ac1c0002row21_col0\" class=\"data row21 col0\" >Greece</td>\n",
              "                        <td id=\"T_7eee4fd2_1e47_11eb_bf20_0242ac1c0002row21_col1\" class=\"data row21 col1\" >405</td>\n",
              "            </tr>\n",
              "            <tr>\n",
              "                        <th id=\"T_7eee4fd2_1e47_11eb_bf20_0242ac1c0002level0_row22\" class=\"row_heading level0 row22\" >15</th>\n",
              "                        <td id=\"T_7eee4fd2_1e47_11eb_bf20_0242ac1c0002row22_col0\" class=\"data row22 col0\" >Ecuador</td>\n",
              "                        <td id=\"T_7eee4fd2_1e47_11eb_bf20_0242ac1c0002row22_col1\" class=\"data row22 col1\" >393</td>\n",
              "            </tr>\n",
              "            <tr>\n",
              "                        <th id=\"T_7eee4fd2_1e47_11eb_bf20_0242ac1c0002level0_row23\" class=\"row_heading level0 row23\" >31</th>\n",
              "                        <td id=\"T_7eee4fd2_1e47_11eb_bf20_0242ac1c0002row23_col0\" class=\"data row23 col0\" >New Zealand</td>\n",
              "                        <td id=\"T_7eee4fd2_1e47_11eb_bf20_0242ac1c0002row23_col1\" class=\"data row23 col1\" >338</td>\n",
              "            </tr>\n",
              "            <tr>\n",
              "                        <th id=\"T_7eee4fd2_1e47_11eb_bf20_0242ac1c0002level0_row24\" class=\"row_heading level0 row24\" >39</th>\n",
              "                        <td id=\"T_7eee4fd2_1e47_11eb_bf20_0242ac1c0002row24_col0\" class=\"data row24 col0\" >Singapore</td>\n",
              "                        <td id=\"T_7eee4fd2_1e47_11eb_bf20_0242ac1c0002row24_col1\" class=\"data row24 col1\" >324</td>\n",
              "            </tr>\n",
              "            <tr>\n",
              "                        <th id=\"T_7eee4fd2_1e47_11eb_bf20_0242ac1c0002level0_row25\" class=\"row_heading level0 row25\" >47</th>\n",
              "                        <td id=\"T_7eee4fd2_1e47_11eb_bf20_0242ac1c0002row25_col0\" class=\"data row25 col0\" >Uruguay</td>\n",
              "                        <td id=\"T_7eee4fd2_1e47_11eb_bf20_0242ac1c0002row25_col1\" class=\"data row25 col1\" >287</td>\n",
              "            </tr>\n",
              "            <tr>\n",
              "                        <th id=\"T_7eee4fd2_1e47_11eb_bf20_0242ac1c0002level0_row26\" class=\"row_heading level0 row26\" >20</th>\n",
              "                        <td id=\"T_7eee4fd2_1e47_11eb_bf20_0242ac1c0002row26_col0\" class=\"data row26 col0\" >Ireland</td>\n",
              "                        <td id=\"T_7eee4fd2_1e47_11eb_bf20_0242ac1c0002row26_col1\" class=\"data row26 col1\" >276</td>\n",
              "            </tr>\n",
              "            <tr>\n",
              "                        <th id=\"T_7eee4fd2_1e47_11eb_bf20_0242ac1c0002level0_row27\" class=\"row_heading level0 row27\" >35</th>\n",
              "                        <td id=\"T_7eee4fd2_1e47_11eb_bf20_0242ac1c0002row27_col0\" class=\"data row27 col0\" >Puerto Rico</td>\n",
              "                        <td id=\"T_7eee4fd2_1e47_11eb_bf20_0242ac1c0002row27_col1\" class=\"data row27 col1\" >269</td>\n",
              "            </tr>\n",
              "            <tr>\n",
              "                        <th id=\"T_7eee4fd2_1e47_11eb_bf20_0242ac1c0002level0_row28\" class=\"row_heading level0 row28\" >21</th>\n",
              "                        <td id=\"T_7eee4fd2_1e47_11eb_bf20_0242ac1c0002row28_col0\" class=\"data row28 col0\" >Israel</td>\n",
              "                        <td id=\"T_7eee4fd2_1e47_11eb_bf20_0242ac1c0002row28_col1\" class=\"data row28 col1\" >234</td>\n",
              "            </tr>\n",
              "            <tr>\n",
              "                        <th id=\"T_7eee4fd2_1e47_11eb_bf20_0242ac1c0002level0_row29\" class=\"row_heading level0 row29\" >13</th>\n",
              "                        <td id=\"T_7eee4fd2_1e47_11eb_bf20_0242ac1c0002row29_col0\" class=\"data row29 col0\" >Costa Rica</td>\n",
              "                        <td id=\"T_7eee4fd2_1e47_11eb_bf20_0242ac1c0002row29_col1\" class=\"data row29 col1\" >128</td>\n",
              "            </tr>\n",
              "            <tr>\n",
              "                        <th id=\"T_7eee4fd2_1e47_11eb_bf20_0242ac1c0002level0_row30\" class=\"row_heading level0 row30\" >28</th>\n",
              "                        <td id=\"T_7eee4fd2_1e47_11eb_bf20_0242ac1c0002row30_col0\" class=\"data row30 col0\" >Mauritius</td>\n",
              "                        <td id=\"T_7eee4fd2_1e47_11eb_bf20_0242ac1c0002row30_col1\" class=\"data row30 col1\" >104</td>\n",
              "            </tr>\n",
              "            <tr>\n",
              "                        <th id=\"T_7eee4fd2_1e47_11eb_bf20_0242ac1c0002level0_row31\" class=\"row_heading level0 row31\" >42</th>\n",
              "                        <td id=\"T_7eee4fd2_1e47_11eb_bf20_0242ac1c0002row31_col0\" class=\"data row31 col0\" >Suriname</td>\n",
              "                        <td id=\"T_7eee4fd2_1e47_11eb_bf20_0242ac1c0002row31_col1\" class=\"data row31 col1\" >80</td>\n",
              "            </tr>\n",
              "            <tr>\n",
              "                        <th id=\"T_7eee4fd2_1e47_11eb_bf20_0242ac1c0002level0_row32\" class=\"row_heading level0 row32\" >33</th>\n",
              "                        <td id=\"T_7eee4fd2_1e47_11eb_bf20_0242ac1c0002row32_col0\" class=\"data row32 col0\" >Paraguay</td>\n",
              "                        <td id=\"T_7eee4fd2_1e47_11eb_bf20_0242ac1c0002row32_col1\" class=\"data row32 col1\" >63</td>\n",
              "            </tr>\n",
              "            <tr>\n",
              "                        <th id=\"T_7eee4fd2_1e47_11eb_bf20_0242ac1c0002level0_row33\" class=\"row_heading level0 row33\" >32</th>\n",
              "                        <td id=\"T_7eee4fd2_1e47_11eb_bf20_0242ac1c0002row33_col0\" class=\"data row33 col0\" >Panama</td>\n",
              "                        <td id=\"T_7eee4fd2_1e47_11eb_bf20_0242ac1c0002row33_col1\" class=\"data row33 col1\" >56</td>\n",
              "            </tr>\n",
              "            <tr>\n",
              "                        <th id=\"T_7eee4fd2_1e47_11eb_bf20_0242ac1c0002level0_row34\" class=\"row_heading level0 row34\" >26</th>\n",
              "                        <td id=\"T_7eee4fd2_1e47_11eb_bf20_0242ac1c0002row34_col0\" class=\"data row34 col0\" >Luxembourg</td>\n",
              "                        <td id=\"T_7eee4fd2_1e47_11eb_bf20_0242ac1c0002row34_col1\" class=\"data row34 col1\" >55</td>\n",
              "            </tr>\n",
              "            <tr>\n",
              "                        <th id=\"T_7eee4fd2_1e47_11eb_bf20_0242ac1c0002level0_row35\" class=\"row_heading level0 row35\" >19</th>\n",
              "                        <td id=\"T_7eee4fd2_1e47_11eb_bf20_0242ac1c0002row35_col0\" class=\"data row35 col0\" >Iceland</td>\n",
              "                        <td id=\"T_7eee4fd2_1e47_11eb_bf20_0242ac1c0002row35_col1\" class=\"data row35 col1\" >32</td>\n",
              "            </tr>\n",
              "            <tr>\n",
              "                        <th id=\"T_7eee4fd2_1e47_11eb_bf20_0242ac1c0002level0_row36\" class=\"row_heading level0 row36\" >44</th>\n",
              "                        <td id=\"T_7eee4fd2_1e47_11eb_bf20_0242ac1c0002row36_col0\" class=\"data row36 col0\" >Trinidad and Tobago</td>\n",
              "                        <td id=\"T_7eee4fd2_1e47_11eb_bf20_0242ac1c0002row36_col1\" class=\"data row36 col1\" >29</td>\n",
              "            </tr>\n",
              "            <tr>\n",
              "                        <th id=\"T_7eee4fd2_1e47_11eb_bf20_0242ac1c0002level0_row37\" class=\"row_heading level0 row37\" >25</th>\n",
              "                        <td id=\"T_7eee4fd2_1e47_11eb_bf20_0242ac1c0002row37_col0\" class=\"data row37 col0\" >Kuwait</td>\n",
              "                        <td id=\"T_7eee4fd2_1e47_11eb_bf20_0242ac1c0002row37_col1\" class=\"data row37 col1\" >17</td>\n",
              "            </tr>\n",
              "            <tr>\n",
              "                        <th id=\"T_7eee4fd2_1e47_11eb_bf20_0242ac1c0002level0_row38\" class=\"row_heading level0 row38\" >5</th>\n",
              "                        <td id=\"T_7eee4fd2_1e47_11eb_bf20_0242ac1c0002row38_col0\" class=\"data row38 col0\" >Bahrain</td>\n",
              "                        <td id=\"T_7eee4fd2_1e47_11eb_bf20_0242ac1c0002row38_col1\" class=\"data row38 col1\" >11</td>\n",
              "            </tr>\n",
              "            <tr>\n",
              "                        <th id=\"T_7eee4fd2_1e47_11eb_bf20_0242ac1c0002level0_row39\" class=\"row_heading level0 row39\" >23</th>\n",
              "                        <td id=\"T_7eee4fd2_1e47_11eb_bf20_0242ac1c0002row39_col0\" class=\"data row39 col0\" >Jamaica</td>\n",
              "                        <td id=\"T_7eee4fd2_1e47_11eb_bf20_0242ac1c0002row39_col1\" class=\"data row39 col1\" >8</td>\n",
              "            </tr>\n",
              "            <tr>\n",
              "                        <th id=\"T_7eee4fd2_1e47_11eb_bf20_0242ac1c0002level0_row40\" class=\"row_heading level0 row40\" >38</th>\n",
              "                        <td id=\"T_7eee4fd2_1e47_11eb_bf20_0242ac1c0002row40_col0\" class=\"data row40 col0\" >Seychelles</td>\n",
              "                        <td id=\"T_7eee4fd2_1e47_11eb_bf20_0242ac1c0002row40_col1\" class=\"data row40 col1\" >8</td>\n",
              "            </tr>\n",
              "            <tr>\n",
              "                        <th id=\"T_7eee4fd2_1e47_11eb_bf20_0242ac1c0002level0_row41\" class=\"row_heading level0 row41\" >6</th>\n",
              "                        <td id=\"T_7eee4fd2_1e47_11eb_bf20_0242ac1c0002row41_col0\" class=\"data row41 col0\" >Barbados</td>\n",
              "                        <td id=\"T_7eee4fd2_1e47_11eb_bf20_0242ac1c0002row41_col1\" class=\"data row41 col1\" >7</td>\n",
              "            </tr>\n",
              "            <tr>\n",
              "                        <th id=\"T_7eee4fd2_1e47_11eb_bf20_0242ac1c0002level0_row42\" class=\"row_heading level0 row42\" >37</th>\n",
              "                        <td id=\"T_7eee4fd2_1e47_11eb_bf20_0242ac1c0002row42_col0\" class=\"data row42 col0\" >Saint Vincent and Grenadines</td>\n",
              "                        <td id=\"T_7eee4fd2_1e47_11eb_bf20_0242ac1c0002row42_col1\" class=\"data row42 col1\" >2</td>\n",
              "            </tr>\n",
              "            <tr>\n",
              "                        <th id=\"T_7eee4fd2_1e47_11eb_bf20_0242ac1c0002level0_row43\" class=\"row_heading level0 row43\" >27</th>\n",
              "                        <td id=\"T_7eee4fd2_1e47_11eb_bf20_0242ac1c0002row43_col0\" class=\"data row43 col0\" >Malta</td>\n",
              "                        <td id=\"T_7eee4fd2_1e47_11eb_bf20_0242ac1c0002row43_col1\" class=\"data row43 col1\" >2</td>\n",
              "            </tr>\n",
              "            <tr>\n",
              "                        <th id=\"T_7eee4fd2_1e47_11eb_bf20_0242ac1c0002level0_row44\" class=\"row_heading level0 row44\" >18</th>\n",
              "                        <td id=\"T_7eee4fd2_1e47_11eb_bf20_0242ac1c0002row44_col0\" class=\"data row44 col0\" >Grenada</td>\n",
              "                        <td id=\"T_7eee4fd2_1e47_11eb_bf20_0242ac1c0002row44_col1\" class=\"data row44 col1\" >1</td>\n",
              "            </tr>\n",
              "            <tr>\n",
              "                        <th id=\"T_7eee4fd2_1e47_11eb_bf20_0242ac1c0002level0_row45\" class=\"row_heading level0 row45\" >4</th>\n",
              "                        <td id=\"T_7eee4fd2_1e47_11eb_bf20_0242ac1c0002row45_col0\" class=\"data row45 col0\" >Bahamas</td>\n",
              "                        <td id=\"T_7eee4fd2_1e47_11eb_bf20_0242ac1c0002row45_col1\" class=\"data row45 col1\" >1</td>\n",
              "            </tr>\n",
              "            <tr>\n",
              "                        <th id=\"T_7eee4fd2_1e47_11eb_bf20_0242ac1c0002level0_row46\" class=\"row_heading level0 row46\" >14</th>\n",
              "                        <td id=\"T_7eee4fd2_1e47_11eb_bf20_0242ac1c0002row46_col0\" class=\"data row46 col0\" >Dominica</td>\n",
              "                        <td id=\"T_7eee4fd2_1e47_11eb_bf20_0242ac1c0002row46_col1\" class=\"data row46 col1\" >0</td>\n",
              "            </tr>\n",
              "            <tr>\n",
              "                        <th id=\"T_7eee4fd2_1e47_11eb_bf20_0242ac1c0002level0_row47\" class=\"row_heading level0 row47\" >0</th>\n",
              "                        <td id=\"T_7eee4fd2_1e47_11eb_bf20_0242ac1c0002row47_col0\" class=\"data row47 col0\" >Antigua and Barbuda</td>\n",
              "                        <td id=\"T_7eee4fd2_1e47_11eb_bf20_0242ac1c0002row47_col1\" class=\"data row47 col1\" >0</td>\n",
              "            </tr>\n",
              "    </tbody></table>"
            ],
            "text/plain": [
              "<pandas.io.formats.style.Styler at 0x7f4629bbef98>"
            ]
          },
          "metadata": {
            "tags": []
          },
          "execution_count": 6
        }
      ]
    },
    {
      "cell_type": "code",
      "metadata": {
        "id": "dZPiAvZV7TWP",
        "outputId": "742ec845-ef26-4e7b-ecec-a14061fb177d",
        "colab": {
          "base_uri": "https://localhost:8080/",
          "height": 270
        }
      },
      "source": [
        "## Suicides number by year\n",
        "f,ax = plt.subplots(1,1,figsize=(16,6))\n",
        "ax = sns.barplot(x = df['year'], y = 'suicide_number',\n",
        "                data=df, palette='Spectral_r')"
      ],
      "execution_count": null,
      "outputs": [
        {
          "output_type": "display_data",
          "data": {
            "image/png": "[encoded data removed]",
            "text/plain": [
              "<Figure size 1152x432 with 1 Axes>"
            ]
          },
          "metadata": {
            "tags": [],
            "needs_background": "light"
          }
        }
      ]
    },
    {
      "cell_type": "code",
      "metadata": {
        "id": "g5M9ceIZe8O5",
        "outputId": "94eca14c-cbd6-4282-e3b3-6e4a3a018ade",
        "colab": {
          "base_uri": "https://localhost:8080/",
          "height": 457
        }
      },
      "source": [
        "## Suicides number by generation and gender\n",
        "f,ax = plt.subplots(1,1,figsize=(13,6))\n",
        "ax = sns.barplot(x = df['generation'], y = 'suicide_number',\n",
        "                  hue='gender',data=df, palette='YlOrBr_r')\n",
        "plt.xticks(rotation=45)"
      ],
      "execution_count": 7,
      "outputs": [
        {
          "output_type": "execute_result",
          "data": {
            "text/plain": [
              "(array([0, 1, 2, 3, 4, 5]), <a list of 6 Text major ticklabel objects>)"
            ]
          },
          "metadata": {
            "tags": []
          },
          "execution_count": 7
        },
        {
          "output_type": "display_data",
          "data": {
            "image/png": "[encoded data removed]",
            "text/plain": [
              "<Figure size 936x432 with 1 Axes>"
            ]
          },
          "metadata": {
            "tags": [],
            "needs_background": "light"
          }
        }
      ]
    },
    {
      "cell_type": "code",
      "metadata": {
        "id": "dUWIr5Og6JWO",
        "outputId": "ecc1384a-c0e2-493c-9220-72d694cadab9",
        "colab": {
          "base_uri": "https://localhost:8080/",
          "height": 388
        }
      },
      "source": [
        "## Suicides number by age and sex\n",
        "f,ax = plt.subplots(1,1,figsize=(13,6))\n",
        "ax = sns.barplot(x = df['age_group'], y = 'suicide_number',\n",
        "                  hue='gender',data=df, palette='Blues')"
      ],
      "execution_count": 8,
      "outputs": [
        {
          "output_type": "display_data",
          "data": {
            "image/png": "[encoded data removed]",
            "text/plain": [
              "<Figure size 936x432 with 1 Axes>"
            ]
          },
          "metadata": {
            "tags": [],
            "needs_background": "light"
          }
        }
      ]
    },
    {
      "cell_type": "code",
      "metadata": {
        "id": "YgBsW4_5LZcf",
        "outputId": "6465a51e-08c9-4fd8-ec94-3a144968ad6b",
        "colab": {
          "base_uri": "https://localhost:8080/",
          "height": 417
        }
      },
      "source": [
        "plt.figure(figsize=(10,10))\n",
        "sns.catplot(x=\"gender\", y=\"suicide_number\",\n",
        "                 hue=\"generation\",\n",
        "                 data=df, kind=\"bar\")\n",
        "plt.title('for generation & suicide number')\n",
        "plt.show()"
      ],
      "execution_count": 9,
      "outputs": [
        {
          "output_type": "display_data",
          "data": {
            "text/plain": [
              "<Figure size 720x720 with 0 Axes>"
            ]
          },
          "metadata": {
            "tags": []
          }
        },
        {
          "output_type": "display_data",
          "data": {
            "image/png": "[encoded data removed]",
            "text/plain": [
              "<Figure size 472x360 with 1 Axes>"
            ]
          },
          "metadata": {
            "tags": [],
            "needs_background": "light"
          }
        }
      ]
    },
    {
      "cell_type": "code",
      "metadata": {
        "id": "UVATMYRNhipi",
        "outputId": "c4b96ff3-d1bb-4baa-ed49-5a066df2a769",
        "colab": {
          "base_uri": "https://localhost:8080/",
          "height": 622
        }
      },
      "source": [
        "corr = df.corr()\n",
        "plt.figure(figsize=(15,10))\n",
        "sns.heatmap(corr,annot=True, xticklabels=corr.columns.values, yticklabels=corr.columns.values,linecolor='white',linewidth=1)"
      ],
      "execution_count": 10,
      "outputs": [
        {
          "output_type": "execute_result",
          "data": {
            "text/plain": [
              "<matplotlib.axes._subplots.AxesSubplot at 0x7f461d84bd30>"
            ]
          },
          "metadata": {
            "tags": []
          },
          "execution_count": 10
        },
        {
          "output_type": "display_data",
          "data": {
            "image/png": "[encoded data removed]",
            "text/plain": [
              "<Figure size 1080x720 with 2 Axes>"
            ]
          },
          "metadata": {
            "tags": [],
            "needs_background": "light"
          }
        }
      ]
    },
    {
      "cell_type": "code",
      "metadata": {
        "id": "mv2T2u5Oe0B_",
        "outputId": "b4b84287-b728-4079-b4ce-63ceef0c0499",
        "colab": {
          "base_uri": "https://localhost:8080/",
          "height": 295
        }
      },
      "source": [
        "## Mean suicides number by gender and 100k population\n",
        "df1=df\n",
        "data = df1.groupby([\"year\", \"gender\"]).agg(\"mean\").reset_index()\n",
        "sns.lineplot(x = \"year\", y = \"sui_pop\", hue = \"gender\", data = df1)\n",
        "plt.title(\"Evolution of the mean suicides number per 100k population (1985 - 2015)\");"
      ],
      "execution_count": 11,
      "outputs": [
        {
          "output_type": "display_data",
          "data": {
            "image/png": "[encoded data removed]",
            "text/plain": [
              "<Figure size 432x288 with 1 Axes>"
            ]
          },
          "metadata": {
            "tags": [],
            "needs_background": "light"
          }
        }
      ]
    },
    {
      "cell_type": "code",
      "metadata": {
        "id": "fbxQIv2we0LQ",
        "outputId": "590bb48e-4ed3-45fc-feeb-02e209c31175",
        "colab": {
          "base_uri": "https://localhost:8080/",
          "height": 758
        }
      },
      "source": [
        "df1 = df1.groupby([\"year\", \"gender\", \"age_group\"]).agg(\"mean\").reset_index()\n",
        "\n",
        "sns.relplot(x = \"year\", y = \"sui_pop\", \n",
        "            hue = \"gender\", col = \"age_group\", col_wrap = 3, data = df1, \n",
        "            facet_kws=dict(sharey=False), kind = \"line\")\n",
        "plt.subplots_adjust(top = 0.9)\n",
        "plt.suptitle(\"Evolution of suicide by sex and age category (1985 - 2015)\", size=15)"
      ],
      "execution_count": 12,
      "outputs": [
        {
          "output_type": "execute_result",
          "data": {
            "text/plain": [
              "Text(0.5, 0.98, 'Evolution of suicide by sex and age category (1985 - 2015)')"
            ]
          },
          "metadata": {
            "tags": []
          },
          "execution_count": 12
        },
        {
          "output_type": "display_data",
          "data": {
            "image/png": "[encoded data removed]",
            "text/plain": [
              "<Figure size 1150.5x720 with 6 Axes>"
            ]
          },
          "metadata": {
            "tags": [],
            "needs_background": "light"
          }
        }
      ]
    },
    {
      "cell_type": "markdown",
      "metadata": {
        "id": "oEyTmc-9Nnmu"
      },
      "source": [
        "###Remove unnecessary columns"
      ]
    },
    {
      "cell_type": "code",
      "metadata": {
        "id": "FqzTss_ag0cd",
        "outputId": "18ad1406-4567-4ffe-b955-cb7fe125d8c3",
        "colab": {
          "base_uri": "https://localhost:8080/"
        }
      },
      "source": [
        "#checking if the dataset contains null values\n",
        "df.isnull().sum().sort_values(ascending=False).head()"
      ],
      "execution_count": 16,
      "outputs": [
        {
          "output_type": "execute_result",
          "data": {
            "text/plain": [
              "hdi               19456\n",
              "generation            0\n",
              "gdp_per_capita        0\n",
              "gdp_for_year          0\n",
              "country_year          0\n",
              "dtype: int64"
            ]
          },
          "metadata": {
            "tags": []
          },
          "execution_count": 16
        }
      ]
    },
    {
      "cell_type": "code",
      "metadata": {
        "id": "YqYrtooje8Zu",
        "outputId": "011198c6-6bf8-4c94-ffdd-360451c3fa35",
        "colab": {
          "base_uri": "https://localhost:8080/",
          "height": 195
        }
      },
      "source": [
        "#Remove unnecessary columns\n",
        "df.drop([\"country_year\",'hdi','gdp_for_year'],axis=1,inplace=True)\n",
        "df.head()\n",
        "#country_year =>Redundant column\n",
        "#hdi => many NAN values\n",
        "#gdp_for_year  =>we keep gdp_per_capita"
      ],
      "execution_count": 17,
      "outputs": [
        {
          "output_type": "execute_result",
          "data": {
            "text/html": [
              "<div>\n",
              "<style scoped>\n",
              "    .dataframe tbody tr th:only-of-type {\n",
              "        vertical-align: middle;\n",
              "    }\n",
              "\n",
              "    .dataframe tbody tr th {\n",
              "        vertical-align: top;\n",
              "    }\n",
              "\n",
              "    .dataframe thead th {\n",
              "        text-align: right;\n",
              "    }\n",
              "</style>\n",
              "<table border=\"1\" class=\"dataframe\">\n",
              "  <thead>\n",
              "    <tr style=\"text-align: right;\">\n",
              "      <th></th>\n",
              "      <th>country</th>\n",
              "      <th>year</th>\n",
              "      <th>gender</th>\n",
              "      <th>age_group</th>\n",
              "      <th>suicide_number</th>\n",
              "      <th>population</th>\n",
              "      <th>sui_pop</th>\n",
              "      <th>gdp_per_capita</th>\n",
              "      <th>generation</th>\n",
              "    </tr>\n",
              "  </thead>\n",
              "  <tbody>\n",
              "    <tr>\n",
              "      <th>0</th>\n",
              "      <td>Albania</td>\n",
              "      <td>1987</td>\n",
              "      <td>male</td>\n",
              "      <td>15-24 years</td>\n",
              "      <td>21</td>\n",
              "      <td>312900</td>\n",
              "      <td>6.71</td>\n",
              "      <td>796</td>\n",
              "      <td>Generation X</td>\n",
              "    </tr>\n",
              "    <tr>\n",
              "      <th>1</th>\n",
              "      <td>Albania</td>\n",
              "      <td>1987</td>\n",
              "      <td>male</td>\n",
              "      <td>35-54 years</td>\n",
              "      <td>16</td>\n",
              "      <td>308000</td>\n",
              "      <td>5.19</td>\n",
              "      <td>796</td>\n",
              "      <td>Silent</td>\n",
              "    </tr>\n",
              "    <tr>\n",
              "      <th>2</th>\n",
              "      <td>Albania</td>\n",
              "      <td>1987</td>\n",
              "      <td>female</td>\n",
              "      <td>15-24 years</td>\n",
              "      <td>14</td>\n",
              "      <td>289700</td>\n",
              "      <td>4.83</td>\n",
              "      <td>796</td>\n",
              "      <td>Generation X</td>\n",
              "    </tr>\n",
              "    <tr>\n",
              "      <th>3</th>\n",
              "      <td>Albania</td>\n",
              "      <td>1987</td>\n",
              "      <td>male</td>\n",
              "      <td>75+ years</td>\n",
              "      <td>1</td>\n",
              "      <td>21800</td>\n",
              "      <td>4.59</td>\n",
              "      <td>796</td>\n",
              "      <td>G.I. Generation</td>\n",
              "    </tr>\n",
              "    <tr>\n",
              "      <th>4</th>\n",
              "      <td>Albania</td>\n",
              "      <td>1987</td>\n",
              "      <td>male</td>\n",
              "      <td>25-34 years</td>\n",
              "      <td>9</td>\n",
              "      <td>274300</td>\n",
              "      <td>3.28</td>\n",
              "      <td>796</td>\n",
              "      <td>Boomers</td>\n",
              "    </tr>\n",
              "  </tbody>\n",
              "</table>\n",
              "</div>"
            ],
            "text/plain": [
              "   country  year  gender  ... sui_pop  gdp_per_capita       generation\n",
              "0  Albania  1987    male  ...    6.71             796     Generation X\n",
              "1  Albania  1987    male  ...    5.19             796           Silent\n",
              "2  Albania  1987  female  ...    4.83             796     Generation X\n",
              "3  Albania  1987    male  ...    4.59             796  G.I. Generation\n",
              "4  Albania  1987    male  ...    3.28             796          Boomers\n",
              "\n",
              "[5 rows x 9 columns]"
            ]
          },
          "metadata": {
            "tags": []
          },
          "execution_count": 17
        }
      ]
    },
    {
      "cell_type": "code",
      "metadata": {
        "id": "h5Rac99DaKBR",
        "outputId": "eb2408ba-af7b-4b74-fb0e-aa37239853ad",
        "colab": {
          "base_uri": "https://localhost:8080/",
          "height": 195
        }
      },
      "source": [
        "#dummies values for sex\n",
        "sex=pd.get_dummies(df['gender'],drop_first=True)\n",
        "sex.head()"
      ],
      "execution_count": 18,
      "outputs": [
        {
          "output_type": "execute_result",
          "data": {
            "text/html": [
              "<div>\n",
              "<style scoped>\n",
              "    .dataframe tbody tr th:only-of-type {\n",
              "        vertical-align: middle;\n",
              "    }\n",
              "\n",
              "    .dataframe tbody tr th {\n",
              "        vertical-align: top;\n",
              "    }\n",
              "\n",
              "    .dataframe thead th {\n",
              "        text-align: right;\n",
              "    }\n",
              "</style>\n",
              "<table border=\"1\" class=\"dataframe\">\n",
              "  <thead>\n",
              "    <tr style=\"text-align: right;\">\n",
              "      <th></th>\n",
              "      <th>male</th>\n",
              "    </tr>\n",
              "  </thead>\n",
              "  <tbody>\n",
              "    <tr>\n",
              "      <th>0</th>\n",
              "      <td>1</td>\n",
              "    </tr>\n",
              "    <tr>\n",
              "      <th>1</th>\n",
              "      <td>1</td>\n",
              "    </tr>\n",
              "    <tr>\n",
              "      <th>2</th>\n",
              "      <td>0</td>\n",
              "    </tr>\n",
              "    <tr>\n",
              "      <th>3</th>\n",
              "      <td>1</td>\n",
              "    </tr>\n",
              "    <tr>\n",
              "      <th>4</th>\n",
              "      <td>1</td>\n",
              "    </tr>\n",
              "  </tbody>\n",
              "</table>\n",
              "</div>"
            ],
            "text/plain": [
              "   male\n",
              "0     1\n",
              "1     1\n",
              "2     0\n",
              "3     1\n",
              "4     1"
            ]
          },
          "metadata": {
            "tags": []
          },
          "execution_count": 18
        }
      ]
    },
    {
      "cell_type": "code",
      "metadata": {
        "id": "RbsVhCGdaNPm",
        "outputId": "eb63d827-4ed1-483d-aef6-15ae3ad7bd37",
        "colab": {
          "base_uri": "https://localhost:8080/",
          "height": 195
        }
      },
      "source": [
        "#dummies values for age\n",
        "age=pd.get_dummies(df['age_group'],drop_first=True)\n",
        "age.head()"
      ],
      "execution_count": 19,
      "outputs": [
        {
          "output_type": "execute_result",
          "data": {
            "text/html": [
              "<div>\n",
              "<style scoped>\n",
              "    .dataframe tbody tr th:only-of-type {\n",
              "        vertical-align: middle;\n",
              "    }\n",
              "\n",
              "    .dataframe tbody tr th {\n",
              "        vertical-align: top;\n",
              "    }\n",
              "\n",
              "    .dataframe thead th {\n",
              "        text-align: right;\n",
              "    }\n",
              "</style>\n",
              "<table border=\"1\" class=\"dataframe\">\n",
              "  <thead>\n",
              "    <tr style=\"text-align: right;\">\n",
              "      <th></th>\n",
              "      <th>25-34 years</th>\n",
              "      <th>35-54 years</th>\n",
              "      <th>5-14 years</th>\n",
              "      <th>55-74 years</th>\n",
              "      <th>75+ years</th>\n",
              "    </tr>\n",
              "  </thead>\n",
              "  <tbody>\n",
              "    <tr>\n",
              "      <th>0</th>\n",
              "      <td>0</td>\n",
              "      <td>0</td>\n",
              "      <td>0</td>\n",
              "      <td>0</td>\n",
              "      <td>0</td>\n",
              "    </tr>\n",
              "    <tr>\n",
              "      <th>1</th>\n",
              "      <td>0</td>\n",
              "      <td>1</td>\n",
              "      <td>0</td>\n",
              "      <td>0</td>\n",
              "      <td>0</td>\n",
              "    </tr>\n",
              "    <tr>\n",
              "      <th>2</th>\n",
              "      <td>0</td>\n",
              "      <td>0</td>\n",
              "      <td>0</td>\n",
              "      <td>0</td>\n",
              "      <td>0</td>\n",
              "    </tr>\n",
              "    <tr>\n",
              "      <th>3</th>\n",
              "      <td>0</td>\n",
              "      <td>0</td>\n",
              "      <td>0</td>\n",
              "      <td>0</td>\n",
              "      <td>1</td>\n",
              "    </tr>\n",
              "    <tr>\n",
              "      <th>4</th>\n",
              "      <td>1</td>\n",
              "      <td>0</td>\n",
              "      <td>0</td>\n",
              "      <td>0</td>\n",
              "      <td>0</td>\n",
              "    </tr>\n",
              "  </tbody>\n",
              "</table>\n",
              "</div>"
            ],
            "text/plain": [
              "   25-34 years  35-54 years  5-14 years  55-74 years  75+ years\n",
              "0            0            0           0            0          0\n",
              "1            0            1           0            0          0\n",
              "2            0            0           0            0          0\n",
              "3            0            0           0            0          1\n",
              "4            1            0           0            0          0"
            ]
          },
          "metadata": {
            "tags": []
          },
          "execution_count": 19
        }
      ]
    },
    {
      "cell_type": "code",
      "metadata": {
        "id": "OGV0eTr7aPYE",
        "outputId": "178cf795-2303-490b-9c25-3bd3ff66962b",
        "colab": {
          "base_uri": "https://localhost:8080/",
          "height": 195
        }
      },
      "source": [
        "#dummies values for generation\n",
        "generation=pd.get_dummies(df['generation'],drop_first=True)\n",
        "generation.head()"
      ],
      "execution_count": 20,
      "outputs": [
        {
          "output_type": "execute_result",
          "data": {
            "text/html": [
              "<div>\n",
              "<style scoped>\n",
              "    .dataframe tbody tr th:only-of-type {\n",
              "        vertical-align: middle;\n",
              "    }\n",
              "\n",
              "    .dataframe tbody tr th {\n",
              "        vertical-align: top;\n",
              "    }\n",
              "\n",
              "    .dataframe thead th {\n",
              "        text-align: right;\n",
              "    }\n",
              "</style>\n",
              "<table border=\"1\" class=\"dataframe\">\n",
              "  <thead>\n",
              "    <tr style=\"text-align: right;\">\n",
              "      <th></th>\n",
              "      <th>G.I. Generation</th>\n",
              "      <th>Generation X</th>\n",
              "      <th>Generation Z</th>\n",
              "      <th>Millenials</th>\n",
              "      <th>Silent</th>\n",
              "    </tr>\n",
              "  </thead>\n",
              "  <tbody>\n",
              "    <tr>\n",
              "      <th>0</th>\n",
              "      <td>0</td>\n",
              "      <td>1</td>\n",
              "      <td>0</td>\n",
              "      <td>0</td>\n",
              "      <td>0</td>\n",
              "    </tr>\n",
              "    <tr>\n",
              "      <th>1</th>\n",
              "      <td>0</td>\n",
              "      <td>0</td>\n",
              "      <td>0</td>\n",
              "      <td>0</td>\n",
              "      <td>1</td>\n",
              "    </tr>\n",
              "    <tr>\n",
              "      <th>2</th>\n",
              "      <td>0</td>\n",
              "      <td>1</td>\n",
              "      <td>0</td>\n",
              "      <td>0</td>\n",
              "      <td>0</td>\n",
              "    </tr>\n",
              "    <tr>\n",
              "      <th>3</th>\n",
              "      <td>1</td>\n",
              "      <td>0</td>\n",
              "      <td>0</td>\n",
              "      <td>0</td>\n",
              "      <td>0</td>\n",
              "    </tr>\n",
              "    <tr>\n",
              "      <th>4</th>\n",
              "      <td>0</td>\n",
              "      <td>0</td>\n",
              "      <td>0</td>\n",
              "      <td>0</td>\n",
              "      <td>0</td>\n",
              "    </tr>\n",
              "  </tbody>\n",
              "</table>\n",
              "</div>"
            ],
            "text/plain": [
              "   G.I. Generation  Generation X  Generation Z  Millenials  Silent\n",
              "0                0             1             0           0       0\n",
              "1                0             0             0           0       1\n",
              "2                0             1             0           0       0\n",
              "3                1             0             0           0       0\n",
              "4                0             0             0           0       0"
            ]
          },
          "metadata": {
            "tags": []
          },
          "execution_count": 20
        }
      ]
    },
    {
      "cell_type": "code",
      "metadata": {
        "id": "ge4VV_rAaRl8",
        "outputId": "8ed69436-82f3-4911-b56b-c2d5a884147e",
        "colab": {
          "base_uri": "https://localhost:8080/",
          "height": 195
        }
      },
      "source": [
        "df.drop(['gender','age_group','generation'],axis=1,inplace=True)\n",
        "df.head()"
      ],
      "execution_count": 21,
      "outputs": [
        {
          "output_type": "execute_result",
          "data": {
            "text/html": [
              "<div>\n",
              "<style scoped>\n",
              "    .dataframe tbody tr th:only-of-type {\n",
              "        vertical-align: middle;\n",
              "    }\n",
              "\n",
              "    .dataframe tbody tr th {\n",
              "        vertical-align: top;\n",
              "    }\n",
              "\n",
              "    .dataframe thead th {\n",
              "        text-align: right;\n",
              "    }\n",
              "</style>\n",
              "<table border=\"1\" class=\"dataframe\">\n",
              "  <thead>\n",
              "    <tr style=\"text-align: right;\">\n",
              "      <th></th>\n",
              "      <th>country</th>\n",
              "      <th>year</th>\n",
              "      <th>suicide_number</th>\n",
              "      <th>population</th>\n",
              "      <th>sui_pop</th>\n",
              "      <th>gdp_per_capita</th>\n",
              "    </tr>\n",
              "  </thead>\n",
              "  <tbody>\n",
              "    <tr>\n",
              "      <th>0</th>\n",
              "      <td>Albania</td>\n",
              "      <td>1987</td>\n",
              "      <td>21</td>\n",
              "      <td>312900</td>\n",
              "      <td>6.71</td>\n",
              "      <td>796</td>\n",
              "    </tr>\n",
              "    <tr>\n",
              "      <th>1</th>\n",
              "      <td>Albania</td>\n",
              "      <td>1987</td>\n",
              "      <td>16</td>\n",
              "      <td>308000</td>\n",
              "      <td>5.19</td>\n",
              "      <td>796</td>\n",
              "    </tr>\n",
              "    <tr>\n",
              "      <th>2</th>\n",
              "      <td>Albania</td>\n",
              "      <td>1987</td>\n",
              "      <td>14</td>\n",
              "      <td>289700</td>\n",
              "      <td>4.83</td>\n",
              "      <td>796</td>\n",
              "    </tr>\n",
              "    <tr>\n",
              "      <th>3</th>\n",
              "      <td>Albania</td>\n",
              "      <td>1987</td>\n",
              "      <td>1</td>\n",
              "      <td>21800</td>\n",
              "      <td>4.59</td>\n",
              "      <td>796</td>\n",
              "    </tr>\n",
              "    <tr>\n",
              "      <th>4</th>\n",
              "      <td>Albania</td>\n",
              "      <td>1987</td>\n",
              "      <td>9</td>\n",
              "      <td>274300</td>\n",
              "      <td>3.28</td>\n",
              "      <td>796</td>\n",
              "    </tr>\n",
              "  </tbody>\n",
              "</table>\n",
              "</div>"
            ],
            "text/plain": [
              "   country  year  suicide_number  population  sui_pop  gdp_per_capita\n",
              "0  Albania  1987              21      312900     6.71             796\n",
              "1  Albania  1987              16      308000     5.19             796\n",
              "2  Albania  1987              14      289700     4.83             796\n",
              "3  Albania  1987               1       21800     4.59             796\n",
              "4  Albania  1987               9      274300     3.28             796"
            ]
          },
          "metadata": {
            "tags": []
          },
          "execution_count": 21
        }
      ]
    },
    {
      "cell_type": "code",
      "metadata": {
        "id": "wKSZHKBNaTro",
        "outputId": "01879c75-a03c-4b22-8d81-38bd0aacef3a",
        "colab": {
          "base_uri": "https://localhost:8080/",
          "height": 418
        }
      },
      "source": [
        "#emerging both the dummies and the dataframe\n",
        "df=pd.concat([df,sex,age,generation],axis=1)\n",
        "df"
      ],
      "execution_count": 22,
      "outputs": [
        {
          "output_type": "execute_result",
          "data": {
            "text/html": [
              "<div>\n",
              "<style scoped>\n",
              "    .dataframe tbody tr th:only-of-type {\n",
              "        vertical-align: middle;\n",
              "    }\n",
              "\n",
              "    .dataframe tbody tr th {\n",
              "        vertical-align: top;\n",
              "    }\n",
              "\n",
              "    .dataframe thead th {\n",
              "        text-align: right;\n",
              "    }\n",
              "</style>\n",
              "<table border=\"1\" class=\"dataframe\">\n",
              "  <thead>\n",
              "    <tr style=\"text-align: right;\">\n",
              "      <th></th>\n",
              "      <th>country</th>\n",
              "      <th>year</th>\n",
              "      <th>suicide_number</th>\n",
              "      <th>population</th>\n",
              "      <th>sui_pop</th>\n",
              "      <th>gdp_per_capita</th>\n",
              "      <th>male</th>\n",
              "      <th>25-34 years</th>\n",
              "      <th>35-54 years</th>\n",
              "      <th>5-14 years</th>\n",
              "      <th>55-74 years</th>\n",
              "      <th>75+ years</th>\n",
              "      <th>G.I. Generation</th>\n",
              "      <th>Generation X</th>\n",
              "      <th>Generation Z</th>\n",
              "      <th>Millenials</th>\n",
              "      <th>Silent</th>\n",
              "    </tr>\n",
              "  </thead>\n",
              "  <tbody>\n",
              "    <tr>\n",
              "      <th>0</th>\n",
              "      <td>Albania</td>\n",
              "      <td>1987</td>\n",
              "      <td>21</td>\n",
              "      <td>312900</td>\n",
              "      <td>6.71</td>\n",
              "      <td>796</td>\n",
              "      <td>1</td>\n",
              "      <td>0</td>\n",
              "      <td>0</td>\n",
              "      <td>0</td>\n",
              "      <td>0</td>\n",
              "      <td>0</td>\n",
              "      <td>0</td>\n",
              "      <td>1</td>\n",
              "      <td>0</td>\n",
              "      <td>0</td>\n",
              "      <td>0</td>\n",
              "    </tr>\n",
              "    <tr>\n",
              "      <th>1</th>\n",
              "      <td>Albania</td>\n",
              "      <td>1987</td>\n",
              "      <td>16</td>\n",
              "      <td>308000</td>\n",
              "      <td>5.19</td>\n",
              "      <td>796</td>\n",
              "      <td>1</td>\n",
              "      <td>0</td>\n",
              "      <td>1</td>\n",
              "      <td>0</td>\n",
              "      <td>0</td>\n",
              "      <td>0</td>\n",
              "      <td>0</td>\n",
              "      <td>0</td>\n",
              "      <td>0</td>\n",
              "      <td>0</td>\n",
              "      <td>1</td>\n",
              "    </tr>\n",
              "    <tr>\n",
              "      <th>2</th>\n",
              "      <td>Albania</td>\n",
              "      <td>1987</td>\n",
              "      <td>14</td>\n",
              "      <td>289700</td>\n",
              "      <td>4.83</td>\n",
              "      <td>796</td>\n",
              "      <td>0</td>\n",
              "      <td>0</td>\n",
              "      <td>0</td>\n",
              "      <td>0</td>\n",
              "      <td>0</td>\n",
              "      <td>0</td>\n",
              "      <td>0</td>\n",
              "      <td>1</td>\n",
              "      <td>0</td>\n",
              "      <td>0</td>\n",
              "      <td>0</td>\n",
              "    </tr>\n",
              "    <tr>\n",
              "      <th>3</th>\n",
              "      <td>Albania</td>\n",
              "      <td>1987</td>\n",
              "      <td>1</td>\n",
              "      <td>21800</td>\n",
              "      <td>4.59</td>\n",
              "      <td>796</td>\n",
              "      <td>1</td>\n",
              "      <td>0</td>\n",
              "      <td>0</td>\n",
              "      <td>0</td>\n",
              "      <td>0</td>\n",
              "      <td>1</td>\n",
              "      <td>1</td>\n",
              "      <td>0</td>\n",
              "      <td>0</td>\n",
              "      <td>0</td>\n",
              "      <td>0</td>\n",
              "    </tr>\n",
              "    <tr>\n",
              "      <th>4</th>\n",
              "      <td>Albania</td>\n",
              "      <td>1987</td>\n",
              "      <td>9</td>\n",
              "      <td>274300</td>\n",
              "      <td>3.28</td>\n",
              "      <td>796</td>\n",
              "      <td>1</td>\n",
              "      <td>1</td>\n",
              "      <td>0</td>\n",
              "      <td>0</td>\n",
              "      <td>0</td>\n",
              "      <td>0</td>\n",
              "      <td>0</td>\n",
              "      <td>0</td>\n",
              "      <td>0</td>\n",
              "      <td>0</td>\n",
              "      <td>0</td>\n",
              "    </tr>\n",
              "    <tr>\n",
              "      <th>...</th>\n",
              "      <td>...</td>\n",
              "      <td>...</td>\n",
              "      <td>...</td>\n",
              "      <td>...</td>\n",
              "      <td>...</td>\n",
              "      <td>...</td>\n",
              "      <td>...</td>\n",
              "      <td>...</td>\n",
              "      <td>...</td>\n",
              "      <td>...</td>\n",
              "      <td>...</td>\n",
              "      <td>...</td>\n",
              "      <td>...</td>\n",
              "      <td>...</td>\n",
              "      <td>...</td>\n",
              "      <td>...</td>\n",
              "      <td>...</td>\n",
              "    </tr>\n",
              "    <tr>\n",
              "      <th>27815</th>\n",
              "      <td>Uzbekistan</td>\n",
              "      <td>2014</td>\n",
              "      <td>107</td>\n",
              "      <td>3620833</td>\n",
              "      <td>2.96</td>\n",
              "      <td>2309</td>\n",
              "      <td>0</td>\n",
              "      <td>0</td>\n",
              "      <td>1</td>\n",
              "      <td>0</td>\n",
              "      <td>0</td>\n",
              "      <td>0</td>\n",
              "      <td>0</td>\n",
              "      <td>1</td>\n",
              "      <td>0</td>\n",
              "      <td>0</td>\n",
              "      <td>0</td>\n",
              "    </tr>\n",
              "    <tr>\n",
              "      <th>27816</th>\n",
              "      <td>Uzbekistan</td>\n",
              "      <td>2014</td>\n",
              "      <td>9</td>\n",
              "      <td>348465</td>\n",
              "      <td>2.58</td>\n",
              "      <td>2309</td>\n",
              "      <td>0</td>\n",
              "      <td>0</td>\n",
              "      <td>0</td>\n",
              "      <td>0</td>\n",
              "      <td>0</td>\n",
              "      <td>1</td>\n",
              "      <td>0</td>\n",
              "      <td>0</td>\n",
              "      <td>0</td>\n",
              "      <td>0</td>\n",
              "      <td>1</td>\n",
              "    </tr>\n",
              "    <tr>\n",
              "      <th>27817</th>\n",
              "      <td>Uzbekistan</td>\n",
              "      <td>2014</td>\n",
              "      <td>60</td>\n",
              "      <td>2762158</td>\n",
              "      <td>2.17</td>\n",
              "      <td>2309</td>\n",
              "      <td>1</td>\n",
              "      <td>0</td>\n",
              "      <td>0</td>\n",
              "      <td>1</td>\n",
              "      <td>0</td>\n",
              "      <td>0</td>\n",
              "      <td>0</td>\n",
              "      <td>0</td>\n",
              "      <td>1</td>\n",
              "      <td>0</td>\n",
              "      <td>0</td>\n",
              "    </tr>\n",
              "    <tr>\n",
              "      <th>27818</th>\n",
              "      <td>Uzbekistan</td>\n",
              "      <td>2014</td>\n",
              "      <td>44</td>\n",
              "      <td>2631600</td>\n",
              "      <td>1.67</td>\n",
              "      <td>2309</td>\n",
              "      <td>0</td>\n",
              "      <td>0</td>\n",
              "      <td>0</td>\n",
              "      <td>1</td>\n",
              "      <td>0</td>\n",
              "      <td>0</td>\n",
              "      <td>0</td>\n",
              "      <td>0</td>\n",
              "      <td>1</td>\n",
              "      <td>0</td>\n",
              "      <td>0</td>\n",
              "    </tr>\n",
              "    <tr>\n",
              "      <th>27819</th>\n",
              "      <td>Uzbekistan</td>\n",
              "      <td>2014</td>\n",
              "      <td>21</td>\n",
              "      <td>1438935</td>\n",
              "      <td>1.46</td>\n",
              "      <td>2309</td>\n",
              "      <td>0</td>\n",
              "      <td>0</td>\n",
              "      <td>0</td>\n",
              "      <td>0</td>\n",
              "      <td>1</td>\n",
              "      <td>0</td>\n",
              "      <td>0</td>\n",
              "      <td>0</td>\n",
              "      <td>0</td>\n",
              "      <td>0</td>\n",
              "      <td>0</td>\n",
              "    </tr>\n",
              "  </tbody>\n",
              "</table>\n",
              "<p>27820 rows × 17 columns</p>\n",
              "</div>"
            ],
            "text/plain": [
              "          country  year  suicide_number  ...  Generation Z  Millenials  Silent\n",
              "0         Albania  1987              21  ...             0           0       0\n",
              "1         Albania  1987              16  ...             0           0       1\n",
              "2         Albania  1987              14  ...             0           0       0\n",
              "3         Albania  1987               1  ...             0           0       0\n",
              "4         Albania  1987               9  ...             0           0       0\n",
              "...           ...   ...             ...  ...           ...         ...     ...\n",
              "27815  Uzbekistan  2014             107  ...             0           0       0\n",
              "27816  Uzbekistan  2014               9  ...             0           0       1\n",
              "27817  Uzbekistan  2014              60  ...             1           0       0\n",
              "27818  Uzbekistan  2014              44  ...             1           0       0\n",
              "27819  Uzbekistan  2014              21  ...             0           0       0\n",
              "\n",
              "[27820 rows x 17 columns]"
            ]
          },
          "metadata": {
            "tags": []
          },
          "execution_count": 22
        }
      ]
    },
    {
      "cell_type": "code",
      "metadata": {
        "id": "dVne9zKyaVsH",
        "outputId": "14f7fa85-1203-410d-ee97-a52e31894098",
        "colab": {
          "base_uri": "https://localhost:8080/",
          "height": 212
        }
      },
      "source": [
        "le=LabelEncoder()\n",
        "df['country']=le.fit_transform(df['country'])\n",
        "df.head()"
      ],
      "execution_count": 23,
      "outputs": [
        {
          "output_type": "execute_result",
          "data": {
            "text/html": [
              "<div>\n",
              "<style scoped>\n",
              "    .dataframe tbody tr th:only-of-type {\n",
              "        vertical-align: middle;\n",
              "    }\n",
              "\n",
              "    .dataframe tbody tr th {\n",
              "        vertical-align: top;\n",
              "    }\n",
              "\n",
              "    .dataframe thead th {\n",
              "        text-align: right;\n",
              "    }\n",
              "</style>\n",
              "<table border=\"1\" class=\"dataframe\">\n",
              "  <thead>\n",
              "    <tr style=\"text-align: right;\">\n",
              "      <th></th>\n",
              "      <th>country</th>\n",
              "      <th>year</th>\n",
              "      <th>suicide_number</th>\n",
              "      <th>population</th>\n",
              "      <th>sui_pop</th>\n",
              "      <th>gdp_per_capita</th>\n",
              "      <th>male</th>\n",
              "      <th>25-34 years</th>\n",
              "      <th>35-54 years</th>\n",
              "      <th>5-14 years</th>\n",
              "      <th>55-74 years</th>\n",
              "      <th>75+ years</th>\n",
              "      <th>G.I. Generation</th>\n",
              "      <th>Generation X</th>\n",
              "      <th>Generation Z</th>\n",
              "      <th>Millenials</th>\n",
              "      <th>Silent</th>\n",
              "    </tr>\n",
              "  </thead>\n",
              "  <tbody>\n",
              "    <tr>\n",
              "      <th>0</th>\n",
              "      <td>0</td>\n",
              "      <td>1987</td>\n",
              "      <td>21</td>\n",
              "      <td>312900</td>\n",
              "      <td>6.71</td>\n",
              "      <td>796</td>\n",
              "      <td>1</td>\n",
              "      <td>0</td>\n",
              "      <td>0</td>\n",
              "      <td>0</td>\n",
              "      <td>0</td>\n",
              "      <td>0</td>\n",
              "      <td>0</td>\n",
              "      <td>1</td>\n",
              "      <td>0</td>\n",
              "      <td>0</td>\n",
              "      <td>0</td>\n",
              "    </tr>\n",
              "    <tr>\n",
              "      <th>1</th>\n",
              "      <td>0</td>\n",
              "      <td>1987</td>\n",
              "      <td>16</td>\n",
              "      <td>308000</td>\n",
              "      <td>5.19</td>\n",
              "      <td>796</td>\n",
              "      <td>1</td>\n",
              "      <td>0</td>\n",
              "      <td>1</td>\n",
              "      <td>0</td>\n",
              "      <td>0</td>\n",
              "      <td>0</td>\n",
              "      <td>0</td>\n",
              "      <td>0</td>\n",
              "      <td>0</td>\n",
              "      <td>0</td>\n",
              "      <td>1</td>\n",
              "    </tr>\n",
              "    <tr>\n",
              "      <th>2</th>\n",
              "      <td>0</td>\n",
              "      <td>1987</td>\n",
              "      <td>14</td>\n",
              "      <td>289700</td>\n",
              "      <td>4.83</td>\n",
              "      <td>796</td>\n",
              "      <td>0</td>\n",
              "      <td>0</td>\n",
              "      <td>0</td>\n",
              "      <td>0</td>\n",
              "      <td>0</td>\n",
              "      <td>0</td>\n",
              "      <td>0</td>\n",
              "      <td>1</td>\n",
              "      <td>0</td>\n",
              "      <td>0</td>\n",
              "      <td>0</td>\n",
              "    </tr>\n",
              "    <tr>\n",
              "      <th>3</th>\n",
              "      <td>0</td>\n",
              "      <td>1987</td>\n",
              "      <td>1</td>\n",
              "      <td>21800</td>\n",
              "      <td>4.59</td>\n",
              "      <td>796</td>\n",
              "      <td>1</td>\n",
              "      <td>0</td>\n",
              "      <td>0</td>\n",
              "      <td>0</td>\n",
              "      <td>0</td>\n",
              "      <td>1</td>\n",
              "      <td>1</td>\n",
              "      <td>0</td>\n",
              "      <td>0</td>\n",
              "      <td>0</td>\n",
              "      <td>0</td>\n",
              "    </tr>\n",
              "    <tr>\n",
              "      <th>4</th>\n",
              "      <td>0</td>\n",
              "      <td>1987</td>\n",
              "      <td>9</td>\n",
              "      <td>274300</td>\n",
              "      <td>3.28</td>\n",
              "      <td>796</td>\n",
              "      <td>1</td>\n",
              "      <td>1</td>\n",
              "      <td>0</td>\n",
              "      <td>0</td>\n",
              "      <td>0</td>\n",
              "      <td>0</td>\n",
              "      <td>0</td>\n",
              "      <td>0</td>\n",
              "      <td>0</td>\n",
              "      <td>0</td>\n",
              "      <td>0</td>\n",
              "    </tr>\n",
              "  </tbody>\n",
              "</table>\n",
              "</div>"
            ],
            "text/plain": [
              "   country  year  suicide_number  ...  Generation Z  Millenials  Silent\n",
              "0        0  1987              21  ...             0           0       0\n",
              "1        0  1987              16  ...             0           0       1\n",
              "2        0  1987              14  ...             0           0       0\n",
              "3        0  1987               1  ...             0           0       0\n",
              "4        0  1987               9  ...             0           0       0\n",
              "\n",
              "[5 rows x 17 columns]"
            ]
          },
          "metadata": {
            "tags": []
          },
          "execution_count": 23
        }
      ]
    },
    {
      "cell_type": "code",
      "metadata": {
        "id": "IpsV31ERhYrs"
      },
      "source": [
        "X=df.drop(labels=['suicide_number'],axis=1)\n",
        "y=df['suicide_number']"
      ],
      "execution_count": 24,
      "outputs": []
    },
    {
      "cell_type": "markdown",
      "metadata": {
        "id": "bLMFGngEh5JC"
      },
      "source": [
        "#Spliting the data into training and testing set"
      ]
    },
    {
      "cell_type": "code",
      "metadata": {
        "id": "raq_ZTYWhYw7",
        "outputId": "d8c9f186-fd99-4aee-c284-260e781d1450",
        "colab": {
          "base_uri": "https://localhost:8080/",
          "height": 212
        }
      },
      "source": [
        "from sklearn.model_selection import train_test_split\n",
        "X_train, X_test, y_train, y_test = train_test_split(X, y, test_size=0.4)\n",
        "X_test.head()"
      ],
      "execution_count": 25,
      "outputs": [
        {
          "output_type": "execute_result",
          "data": {
            "text/html": [
              "<div>\n",
              "<style scoped>\n",
              "    .dataframe tbody tr th:only-of-type {\n",
              "        vertical-align: middle;\n",
              "    }\n",
              "\n",
              "    .dataframe tbody tr th {\n",
              "        vertical-align: top;\n",
              "    }\n",
              "\n",
              "    .dataframe thead th {\n",
              "        text-align: right;\n",
              "    }\n",
              "</style>\n",
              "<table border=\"1\" class=\"dataframe\">\n",
              "  <thead>\n",
              "    <tr style=\"text-align: right;\">\n",
              "      <th></th>\n",
              "      <th>country</th>\n",
              "      <th>year</th>\n",
              "      <th>population</th>\n",
              "      <th>sui_pop</th>\n",
              "      <th>gdp_per_capita</th>\n",
              "      <th>male</th>\n",
              "      <th>25-34 years</th>\n",
              "      <th>35-54 years</th>\n",
              "      <th>5-14 years</th>\n",
              "      <th>55-74 years</th>\n",
              "      <th>75+ years</th>\n",
              "      <th>G.I. Generation</th>\n",
              "      <th>Generation X</th>\n",
              "      <th>Generation Z</th>\n",
              "      <th>Millenials</th>\n",
              "      <th>Silent</th>\n",
              "    </tr>\n",
              "  </thead>\n",
              "  <tbody>\n",
              "    <tr>\n",
              "      <th>14975</th>\n",
              "      <td>51</td>\n",
              "      <td>2010</td>\n",
              "      <td>145331</td>\n",
              "      <td>40.60</td>\n",
              "      <td>11951</td>\n",
              "      <td>1</td>\n",
              "      <td>1</td>\n",
              "      <td>0</td>\n",
              "      <td>0</td>\n",
              "      <td>0</td>\n",
              "      <td>0</td>\n",
              "      <td>0</td>\n",
              "      <td>1</td>\n",
              "      <td>0</td>\n",
              "      <td>0</td>\n",
              "      <td>0</td>\n",
              "    </tr>\n",
              "    <tr>\n",
              "      <th>9129</th>\n",
              "      <td>33</td>\n",
              "      <td>1988</td>\n",
              "      <td>4362100</td>\n",
              "      <td>13.89</td>\n",
              "      <td>19534</td>\n",
              "      <td>1</td>\n",
              "      <td>0</td>\n",
              "      <td>0</td>\n",
              "      <td>0</td>\n",
              "      <td>0</td>\n",
              "      <td>0</td>\n",
              "      <td>0</td>\n",
              "      <td>1</td>\n",
              "      <td>0</td>\n",
              "      <td>0</td>\n",
              "      <td>0</td>\n",
              "    </tr>\n",
              "    <tr>\n",
              "      <th>25972</th>\n",
              "      <td>94</td>\n",
              "      <td>2008</td>\n",
              "      <td>542946</td>\n",
              "      <td>23.94</td>\n",
              "      <td>4368</td>\n",
              "      <td>1</td>\n",
              "      <td>0</td>\n",
              "      <td>0</td>\n",
              "      <td>0</td>\n",
              "      <td>0</td>\n",
              "      <td>0</td>\n",
              "      <td>0</td>\n",
              "      <td>0</td>\n",
              "      <td>0</td>\n",
              "      <td>1</td>\n",
              "      <td>0</td>\n",
              "    </tr>\n",
              "    <tr>\n",
              "      <th>2446</th>\n",
              "      <td>8</td>\n",
              "      <td>1998</td>\n",
              "      <td>25583</td>\n",
              "      <td>0.00</td>\n",
              "      <td>26269</td>\n",
              "      <td>0</td>\n",
              "      <td>0</td>\n",
              "      <td>0</td>\n",
              "      <td>0</td>\n",
              "      <td>0</td>\n",
              "      <td>0</td>\n",
              "      <td>0</td>\n",
              "      <td>1</td>\n",
              "      <td>0</td>\n",
              "      <td>0</td>\n",
              "      <td>0</td>\n",
              "    </tr>\n",
              "    <tr>\n",
              "      <th>2852</th>\n",
              "      <td>9</td>\n",
              "      <td>2012</td>\n",
              "      <td>237133</td>\n",
              "      <td>4.64</td>\n",
              "      <td>25587</td>\n",
              "      <td>1</td>\n",
              "      <td>1</td>\n",
              "      <td>0</td>\n",
              "      <td>0</td>\n",
              "      <td>0</td>\n",
              "      <td>0</td>\n",
              "      <td>0</td>\n",
              "      <td>0</td>\n",
              "      <td>0</td>\n",
              "      <td>1</td>\n",
              "      <td>0</td>\n",
              "    </tr>\n",
              "  </tbody>\n",
              "</table>\n",
              "</div>"
            ],
            "text/plain": [
              "       country  year  population  ...  Generation Z  Millenials  Silent\n",
              "14975       51  2010      145331  ...             0           0       0\n",
              "9129        33  1988     4362100  ...             0           0       0\n",
              "25972       94  2008      542946  ...             0           1       0\n",
              "2446         8  1998       25583  ...             0           0       0\n",
              "2852         9  2012      237133  ...             0           1       0\n",
              "\n",
              "[5 rows x 16 columns]"
            ]
          },
          "metadata": {
            "tags": []
          },
          "execution_count": 25
        }
      ]
    },
    {
      "cell_type": "markdown",
      "metadata": {
        "id": "ZFRcNnJz1jNP"
      },
      "source": [
        "#Linear Regression"
      ]
    },
    {
      "cell_type": "code",
      "metadata": {
        "id": "nRT-krYA1ovO"
      },
      "source": [
        "from sklearn.linear_model import LinearRegression \n",
        "lr=LinearRegression()\n",
        "lr.fit(X_train,y_train)\n",
        "y_pred_test=lr.predict(X_test)\n",
        "y_pred_train=lr.predict(X_train)"
      ],
      "execution_count": 26,
      "outputs": []
    },
    {
      "cell_type": "code",
      "metadata": {
        "id": "1UeGhal8349t",
        "outputId": "ef580615-d2e9-430d-ed46-3f49b7402760",
        "colab": {
          "base_uri": "https://localhost:8080/"
        }
      },
      "source": [
        "#evaluate the model\n",
        "from sklearn.metrics import mean_squared_error,explained_variance_score\n",
        "mse_test_lr=mean_squared_error(y_test,y_pred_test)\n",
        "mse_train_lr=mean_squared_error(y_train,y_pred_train)\n",
        "\n",
        "print(\"Linear Regression - MSE of the test set  is : \" + str(mse_test_lr))\n",
        "print(\"Linear Regression - MSE of the training set is : \"+str(mse_train_lr))\n",
        "\n",
        "print(\"Linear Regression - variance score is : \"+ str(explained_variance_score(y_test,y_pred_test)))"
      ],
      "execution_count": 27,
      "outputs": [
        {
          "output_type": "stream",
          "text": [
            "Linear Regression - MSE of the test set  is : 478993.3553361628\n",
            "Linear Regression - MSE of the training set is : 391373.99847588356\n",
            "Linear Regression - variance score is : 0.46908095635810887\n"
          ],
          "name": "stdout"
        }
      ]
    },
    {
      "cell_type": "markdown",
      "metadata": {
        "id": "9WN82CuM_-zX"
      },
      "source": [
        "#Decision Tree Regression "
      ]
    },
    {
      "cell_type": "code",
      "metadata": {
        "id": "4XHLbB8yAHL7"
      },
      "source": [
        "from sklearn.tree import DecisionTreeRegressor\n",
        "dtr=DecisionTreeRegressor()\n",
        "dtr.fit(X_train,y_train)\n",
        "y_pred_test=dtr.predict(X_test)\n",
        "y_pred_train=dtr.predict(X_train)"
      ],
      "execution_count": 28,
      "outputs": []
    },
    {
      "cell_type": "code",
      "metadata": {
        "id": "FSy-J00hAggF",
        "outputId": "30c3f056-92bd-4e22-dd0f-50a008bbcfb6",
        "colab": {
          "base_uri": "https://localhost:8080/"
        }
      },
      "source": [
        "#evaluate the model\n",
        "mse_test_dtr=mean_squared_error(y_test,y_pred_test)\n",
        "mse_train_dtr=mean_squared_error(y_train,y_pred_train)\n",
        "\n",
        "print(\"Decision Tree Regression - MSE of the test set is : \" + str(mse_test_dtr))\n",
        "print(\"Decision Tree Regression - MSE of the training set is : \"+str(mse_train_dtr))\n",
        "\n",
        "print(\"Decision Tree Regression - variance score is : \"+ str(explained_variance_score(y_test,y_pred_test)))"
      ],
      "execution_count": 29,
      "outputs": [
        {
          "output_type": "stream",
          "text": [
            "Decision Tree Regression - MSE of the test set is : 12564.895398993529\n",
            "Decision Tree Regression - MSE of the training set is : 0.0\n",
            "Decision Tree Regression - variance score is : 0.9860722682065601\n"
          ],
          "name": "stdout"
        }
      ]
    },
    {
      "cell_type": "markdown",
      "metadata": {
        "id": "PGy8v07UZuin"
      },
      "source": [
        "#Random forest regression model"
      ]
    },
    {
      "cell_type": "code",
      "metadata": {
        "id": "G2vRcLoMZiW-"
      },
      "source": [
        "from sklearn.ensemble import RandomForestRegressor\n",
        "rfr= RandomForestRegressor(n_estimators=1000)\n",
        "rfr.fit(X_train,y_train)\n",
        "y_pred_test=rfr.predict(X_test)\n",
        "y_pred_train=rfr.predict(X_train)"
      ],
      "execution_count": 32,
      "outputs": []
    },
    {
      "cell_type": "code",
      "metadata": {
        "id": "7gvfrz9hZ3Gt",
        "outputId": "2acebfac-2cf5-4bb7-cfad-fc26e86370cc",
        "colab": {
          "base_uri": "https://localhost:8080/"
        }
      },
      "source": [
        "#evaluate the model\n",
        "mse_test_rfr=mean_squared_error(y_test,y_pred_test)\n",
        "mse_train_rfr=mean_squared_error(y_train,y_pred_train)\n",
        "\n",
        "print(\"Random Forest Regression - MSE of the test set is : \" + str(mse_test_rfr))\n",
        "print(\"Random Forest Regression - MSE of the training set is : \"+str(mse_train_rfr))\n",
        "\n",
        "print(\"Random Forest Regression - variance score is : \"+ str(explained_variance_score(y_test,y_pred_test)))"
      ],
      "execution_count": 33,
      "outputs": [
        {
          "output_type": "stream",
          "text": [
            "Random Forest Regression - MSE of the test set is : 5250.217462555626\n",
            "Random Forest Regression - MSE of the training set is : 416.9963068314163\n",
            "Random Forest Regression - variance score is : 0.9941822396078536\n"
          ],
          "name": "stdout"
        }
      ]
    },
    {
      "cell_type": "markdown",
      "metadata": {
        "id": "8xmZtx5UfMQf"
      },
      "source": [
        "#Test Random inputs"
      ]
    },
    {
      "cell_type": "code",
      "metadata": {
        "id": "orgSaeo3dUy1",
        "outputId": "e3337ba0-cf30-43f0-d397-5a023c45fbfe",
        "colab": {
          "base_uri": "https://localhost:8080/"
        }
      },
      "source": [
        "#predicting\n",
        "y_pred=rfr.predict(np.expand_dims(np.array([0,1987,312900,6.71,796,1,1,0,0,0,0,0,0,0,0,1]), axis=0))\n",
        "# print(x_test[0])\n",
        "print(\"Number of suicide : \",int(y_pred))"
      ],
      "execution_count": 34,
      "outputs": [
        {
          "output_type": "stream",
          "text": [
            "Number of suicide :  21\n"
          ],
          "name": "stdout"
        }
      ]
    },
    {
      "cell_type": "markdown",
      "metadata": {
        "id": "lwEqt0vXfXez"
      },
      "source": [
        "#Store model in pickle file"
      ]
    },
    {
      "cell_type": "code",
      "metadata": {
        "id": "dFq3hENPbGjR"
      },
      "source": [
        "#save model to disk\n",
        "filename='/content/drive/My Drive/World Wide Suicide Prediction/suicide_prediction_model.pkl'\n",
        "pickle.dump(rfr,open(filename,'wb'))"
      ],
      "execution_count": 35,
      "outputs": []
    },
    {
      "cell_type": "code",
      "metadata": {
        "id": "N9mlpKinhPy9",
        "outputId": "17af5c58-d8a2-470a-a1c3-929a9e7e3792",
        "colab": {
          "base_uri": "https://localhost:8080/"
        }
      },
      "source": [
        "#load the model from disk\n",
        "load_model=pickle.load(open(filename,'rb'))\n",
        "result=load_model.predict(np.expand_dims(np.array([0,1987,312900,6.71,796,1,1,0,0,0,0,0,0,0,0,1]), axis=0))\n",
        "print(\"Number of suicide : \",int(result))"
      ],
      "execution_count": 36,
      "outputs": [
        {
          "output_type": "stream",
          "text": [
            "Number of suicide :  21\n"
          ],
          "name": "stdout"
        }
      ]
    },
    {
      "cell_type": "markdown",
      "metadata": {
        "id": "VCaSYi5_vjRp"
      },
      "source": [
        "#Comparision of models"
      ]
    },
    {
      "cell_type": "code",
      "metadata": {
        "id": "W24d3xeGvmQP",
        "outputId": "c4bf76f4-0efe-41c1-8969-05fb7e1bcd94",
        "colab": {
          "base_uri": "https://localhost:8080/",
          "height": 136
        }
      },
      "source": [
        "train_error=[mse_train_lr,mse_train_dtr,mse_train_rfr]\n",
        "test_error=[mse_test_lr,mse_test_dtr,mse_train_rfr]\n",
        "\n",
        "col={'Train Error':train_error,'Test Error':test_error}\n",
        "models=['Linear Regression','Decision Tree Regression','Random Forest Regression']\n",
        "comp=pd.DataFrame(data=col,index=models)\n",
        "comp"
      ],
      "execution_count": 37,
      "outputs": [
        {
          "output_type": "execute_result",
          "data": {
            "text/html": [
              "<div>\n",
              "<style scoped>\n",
              "    .dataframe tbody tr th:only-of-type {\n",
              "        vertical-align: middle;\n",
              "    }\n",
              "\n",
              "    .dataframe tbody tr th {\n",
              "        vertical-align: top;\n",
              "    }\n",
              "\n",
              "    .dataframe thead th {\n",
              "        text-align: right;\n",
              "    }\n",
              "</style>\n",
              "<table border=\"1\" class=\"dataframe\">\n",
              "  <thead>\n",
              "    <tr style=\"text-align: right;\">\n",
              "      <th></th>\n",
              "      <th>Train Error</th>\n",
              "      <th>Test Error</th>\n",
              "    </tr>\n",
              "  </thead>\n",
              "  <tbody>\n",
              "    <tr>\n",
              "      <th>Linear Regression</th>\n",
              "      <td>391373.998476</td>\n",
              "      <td>478993.355336</td>\n",
              "    </tr>\n",
              "    <tr>\n",
              "      <th>Decision Tree Regression</th>\n",
              "      <td>0.000000</td>\n",
              "      <td>12564.895399</td>\n",
              "    </tr>\n",
              "    <tr>\n",
              "      <th>Random Forest Regression</th>\n",
              "      <td>416.996307</td>\n",
              "      <td>416.996307</td>\n",
              "    </tr>\n",
              "  </tbody>\n",
              "</table>\n",
              "</div>"
            ],
            "text/plain": [
              "                            Train Error     Test Error\n",
              "Linear Regression         391373.998476  478993.355336\n",
              "Decision Tree Regression       0.000000   12564.895399\n",
              "Random Forest Regression     416.996307     416.996307"
            ]
          },
          "metadata": {
            "tags": []
          },
          "execution_count": 37
        }
      ]
    },
    {
      "cell_type": "code",
      "metadata": {
        "id": "R_Fr-mZJiiA6",
        "outputId": "aa39c046-7fe6-4947-822c-b25d8400a691",
        "colab": {
          "base_uri": "https://localhost:8080/",
          "height": 409
        }
      },
      "source": [
        "comp.plot(kind='bar')"
      ],
      "execution_count": 38,
      "outputs": [
        {
          "output_type": "execute_result",
          "data": {
            "text/plain": [
              "<matplotlib.axes._subplots.AxesSubplot at 0x7f46189e1940>"
            ]
          },
          "metadata": {
            "tags": []
          },
          "execution_count": 38
        },
        {
          "output_type": "display_data",
          "data": {
            "image/png": "[encoded data removed]",
            "text/plain": [
              "<Figure size 432x288 with 1 Axes>"
            ]
          },
          "metadata": {
            "tags": [],
            "needs_background": "light"
          }
        }
      ]
    },
    {
      "cell_type": "code",
      "metadata": {
        "id": "jiW8VUQ2FI9m"
      },
      "source": [
        ""
      ],
      "execution_count": null,
      "outputs": []
    },
    {
      "cell_type": "code",
      "metadata": {
        "id": "w5OBBqbmFJSA"
      },
      "source": [
        ""
      ],
      "execution_count": null,
      "outputs": []
    },
    {
      "cell_type": "markdown",
      "metadata": {
        "id": "m7hUsz3jFKca"
      },
      "source": [
        "# GUI Using flask"
      ]
    },
    {
      "cell_type": "code",
      "metadata": {
        "id": "mMGHqFIzFOAZ",
        "outputId": "817c4205-20f3-44d8-afef-1791ca6a1d7f",
        "colab": {
          "base_uri": "https://localhost:8080/"
        }
      },
      "source": [
        "!pip install flask-ngrok"
      ],
      "execution_count": 39,
      "outputs": [
        {
          "output_type": "stream",
          "text": [
            "Collecting flask-ngrok\n",
            "  Downloading https://files.pythonhosted.org/packages/af/6c/f54cb686ad1129e27d125d182f90f52b32f284e6c8df58c1bae54fa1adbc/flask_ngrok-0.0.25-py3-none-any.whl\n",
            "Requirement already satisfied: Flask>=0.8 in /usr/local/lib/python3.6/dist-packages (from flask-ngrok) (1.1.2)\n",
            "Requirement already satisfied: requests in /usr/local/lib/python3.6/dist-packages (from flask-ngrok) (2.23.0)\n",
            "Requirement already satisfied: Werkzeug>=0.15 in /usr/local/lib/python3.6/dist-packages (from Flask>=0.8->flask-ngrok) (1.0.1)\n",
            "Requirement already satisfied: itsdangerous>=0.24 in /usr/local/lib/python3.6/dist-packages (from Flask>=0.8->flask-ngrok) (1.1.0)\n",
            "Requirement already satisfied: Jinja2>=2.10.1 in /usr/local/lib/python3.6/dist-packages (from Flask>=0.8->flask-ngrok) (2.11.2)\n",
            "Requirement already satisfied: click>=5.1 in /usr/local/lib/python3.6/dist-packages (from Flask>=0.8->flask-ngrok) (7.1.2)\n",
            "Requirement already satisfied: urllib3!=1.25.0,!=1.25.1,<1.26,>=1.21.1 in /usr/local/lib/python3.6/dist-packages (from requests->flask-ngrok) (1.24.3)\n",
            "Requirement already satisfied: chardet<4,>=3.0.2 in /usr/local/lib/python3.6/dist-packages (from requests->flask-ngrok) (3.0.4)\n",
            "Requirement already satisfied: idna<3,>=2.5 in /usr/local/lib/python3.6/dist-packages (from requests->flask-ngrok) (2.10)\n",
            "Requirement already satisfied: certifi>=2017.4.17 in /usr/local/lib/python3.6/dist-packages (from requests->flask-ngrok) (2020.6.20)\n",
            "Requirement already satisfied: MarkupSafe>=0.23 in /usr/local/lib/python3.6/dist-packages (from Jinja2>=2.10.1->Flask>=0.8->flask-ngrok) (1.1.1)\n",
            "Installing collected packages: flask-ngrok\n",
            "Successfully installed flask-ngrok-0.0.25\n"
          ],
          "name": "stdout"
        }
      ]
    },
    {
      "cell_type": "code",
      "metadata": {
        "id": "NYD5MO5hFPEn"
      },
      "source": [
        "%mkdir templates -p"
      ],
      "execution_count": 40,
      "outputs": []
    },
    {
      "cell_type": "code",
      "metadata": {
        "id": "zmvbfbYMFQ8g",
        "outputId": "82ad11a7-d112-404a-911d-789c9c0e9e46",
        "colab": {
          "base_uri": "https://localhost:8080/"
        }
      },
      "source": [
        "%%writefile templates/index.html\n",
        "<!DOCTYPE html>\n",
        "<html>\n",
        "\n",
        "<head>\n",
        "  <meta charset=\"UTF-8\" />\n",
        "  <title>Suicide Number Prediction</title>\n",
        "  <!-- Bootstrap CSS -->\n",
        "  <link rel=\"stylesheet\" href=\"https://stackpath.bootstrapcdn.com/bootstrap/4.3.1/css/bootstrap.min.css\"\n",
        "    integrity=\"sha384-ggOyR0iXCbMQv3Xipma34MD+dH/1fQ784/j6cY/iJTQUOhcWr7x9JvoRxT2MZw1T\" crossorigin=\"anonymous\" />\n",
        "  <link rel=\"stylesheet\" href=\"./css/global.css\" type=\"text/css\">\n",
        "</head>\n",
        "\n",
        "<body style=\"background: linear-gradient(-180deg, rgb(6, 201, 191) 0%, rgb(0, 127, 201) 100%, rgb(3, 86, 154) 50%);\n",
        "              height: 100%;\n",
        "              width: 100%;\n",
        "              background-size: cover;\n",
        "              background-attachment: fixed;\n",
        "              background-position: center center;\">\n",
        "  <div class=\"container\">\n",
        "  <br/>\n",
        "  <h1 class=\"text-center\">{{ prediction_text }}</h1>\n",
        "    <h1 class=\"text-center my-4\">Predict Suicide Number</h1>\n",
        "\n",
        "    <!-- Main Input For Receiving Query to our ML -->\n",
        "    <form action=\"{{ url_for('predict')}}\" class=\"mx-auto col-lg-6 col-md-8 col-12\" method=\"post\" id=\"student\" style=\"\n",
        "            color : #fff;\n",
        "            background: rgba(255, 255, 255, 0.192);\n",
        "            padding-top: 20px;\n",
        "            padding-left:15px;\n",
        "            padding-right: 15px;\n",
        "            padding-bottom:10px;\n",
        "            border-radius: 10px;\n",
        "            box-shadow: 0px 0px 10px 0px #000;\n",
        "          \">\n",
        "\n",
        "      <!-- country -->\n",
        "      <div class=\"form-group row\">\n",
        "        <label for=\"country\" class=\"col-3\">Country</label>\n",
        "        <select class=\"form-control col-8\" name=\"country\" id=\"country\">\n",
        "          <option selected disabled>Choose...</option>\n",
        "          <option value=\"0\">Albania</option>\n",
        "          <option value=\"1\">Antigua and Barbuda</option>\n",
        "          <option value=\"2\">Argentina</option>\n",
        "          <option value=\"3\">Armenia</option>\n",
        "          <option value=\"4\">Aruba</option>\n",
        "          <option value=\"5\">Australia</option>\n",
        "          <option value=\"6\">Austria</option>\n",
        "          <option value=\"7\">Azerbaijan</option>\n",
        "          <option value=\"8\">Bahamas</option>\n",
        "          <option value=\"9\">Bahrain</option>\n",
        "          <option value=\"10\">Barbados</option>\n",
        "          <option value=\"11\">Belarus</option>\n",
        "          <option value=\"12\">Belgium</option>\n",
        "          <option value=\"13\">Belize</option>\n",
        "          <option value=\"14\">Bosnia and Herzegovina</option>\n",
        "          <option value=\"15\">Brazil</option>\n",
        "          <option value=\"16\">Bulgaria</option>\n",
        "          <option value=\"17\">Cabo Verde</option>\n",
        "          <option value=\"18\">Canada</option>\n",
        "          <option value=\"19\">Chile</option>\n",
        "          <option value=\"20\">Colombia</option>\n",
        "          <option value=\"21\">Costa Rica</option>\n",
        "          <option value=\"22\">Croatia</option>\n",
        "          <option value=\"23\">Cuba</option>\n",
        "          <option value=\"24\">Cyprus</option>\n",
        "          <option value=\"25\">Czech Republic</option>\n",
        "          <option value=\"26\">Denmark</option>\n",
        "          <option value=\"27\">Dominica</option>\n",
        "          <option value=\"28\">Ecuador</option>\n",
        "          <option value=\"29\">El Salvador</option>\n",
        "          <option value=\"30\">Estonia</option>\n",
        "          <option value=\"31\">Fiji</option>\n",
        "          <option value=\"32\">Finland</option>\n",
        "          <option value=\"33\">France</option>\n",
        "          <option value=\"34\">Georgia</option>\n",
        "          <option value=\"35\">Germany</option>\n",
        "          <option value=\"36\">Greece</option>\n",
        "          <option value=\"37\">Grenada</option>\n",
        "          <option value=\"38\">Guatemala</option>\n",
        "          <option value=\"39\">Guyana</option>\n",
        "          <option value=\"40\">Hungary</option>\n",
        "          <option value=\"41\">Iceland</option>\n",
        "          <option value=\"42\">Ireland</option>\n",
        "          <option value=\"43\">Israel</option>\n",
        "          <option value=\"44\">Italy</option>\n",
        "          <option value=\"45\">Jamaica</option>\n",
        "          <option value=\"46\">Japan</option>\n",
        "          <option value=\"47\">Kazakhstan</option>\n",
        "          <option value=\"48\">Kiribati</option>\n",
        "          <option value=\"49\">Kuwait</option>\n",
        "          <option value=\"50\">Kyrgyzstan</option>\n",
        "          <option value=\"51\">Latvia</option>\n",
        "          <option value=\"52\">Lithuania</option>\n",
        "          <option value=\"53\">Luxembourg</option>\n",
        "          <option value=\"54\">Macau</option>\n",
        "          <option value=\"55\">Maldives</option>\n",
        "          <option value=\"56\">Malta</option>\n",
        "          <option value=\"57\">Mauritius</option>\n",
        "          <option value=\"58\">Mexico</option>\n",
        "          <option value=\"59\">Mongolia</option>\n",
        "          <option value=\"60\">Montenegro</option>\n",
        "          <option value=\"61\">Netherlands</option>\n",
        "          <option value=\"62\">New Zealand</option>\n",
        "          <option value=\"63\">Nicaragua</option>\n",
        "          <option value=\"64\">Norway</option>\n",
        "          <option value=\"65\">Oman</option>\n",
        "          <option value=\"66\">Panama</option>\n",
        "          <option value=\"67\">Paraguay</option>\n",
        "          <option value=\"68\">Philippines</option>\n",
        "          <option value=\"69\">Poland</option>\n",
        "          <option value=\"70\">Portugal</option>\n",
        "          <option value=\"71\">Puerto Rico</option>\n",
        "          <option value=\"72\">Qatar</option>\n",
        "          <option value=\"73\">Republic of Korea</option>\n",
        "          <option value=\"74\">Romania</option>\n",
        "          <option value=\"75\">Russian Federation</option>\n",
        "          <option value=\"76\">Saint Kitts and Nevis</option>\n",
        "          <option value=\"77\">Saint Lucia</option>\n",
        "          <option value=\"78\">Saint Vincent and Grenadines</option>\n",
        "          <option value=\"79\">San Marino</option>\n",
        "          <option value=\"80\">Serbia</option>\n",
        "          <option value=\"81\">Seychelles</option>\n",
        "          <option value=\"82\">Singapore</option>\n",
        "          <option value=\"83\">Slovakia</option>\n",
        "          <option value=\"84\">Slovenia</option>\n",
        "          <option value=\"85\">South Africa</option>\n",
        "          <option value=\"86\">Spain</option>\n",
        "          <option value=\"87\">Sri Lanka</option>\n",
        "          <option value=\"88\">Suriname</option>\n",
        "          <option value=\"89\">Sweden</option>\n",
        "          <option value=\"90\">Switzerland</option>\n",
        "          <option value=\"91\">Thailand</option>\n",
        "          <option value=\"92\">Trinidad and Tobago</option>\n",
        "          <option value=\"93\">Turkey</option>\n",
        "          <option value=\"94\">Turkmenistan</option>\n",
        "          <option value=\"95\">Ukraine</option>\n",
        "          <option value=\"96\">United Arab Emirates</option>\n",
        "          <option value=\"97\">United Kingdom</option>\n",
        "          <option value=\"98\">United States</option>\n",
        "          <option value=\"99\">Uruguay</option>\n",
        "          <option value=\"100\">Uzbekistan</option>\n",
        "        </select>\n",
        "      </div>\n",
        "\n",
        "      <!-- year -->\n",
        "      <div class=\"form-group row\">\n",
        "        <label for=\"year\" class=\"col-3\">Year</label>\n",
        "        <select class=\"form-control col-8\" name=\"year\" id=\"year\">\n",
        "          <option selected disabled>Choose...</option>\n",
        "          <option value=\"1985\">1985</option>\n",
        "          <option value=\"1986\">1986</option>\n",
        "          <option value=\"1987\">1987</option>\n",
        "          <option value=\"1988\">1988</option>\n",
        "          <option value=\"1989\">1989</option>\n",
        "          <option value=\"1990\">1990</option>\n",
        "          <option value=\"1991\">1991</option>\n",
        "          <option value=\"1992\">1992</option>\n",
        "          <option value=\"1993\">1993</option>\n",
        "          <option value=\"1994\">1994</option>\n",
        "          <option value=\"1995\">1995</option>\n",
        "          <option value=\"1996\">1996</option>\n",
        "          <option value=\"1997\">1997</option>\n",
        "          <option value=\"1998\">1998</option>\n",
        "          <option value=\"1999\">1999</option>\n",
        "          <option value=\"2000\">2000</option>\n",
        "          <option value=\"2001\">2001</option>\n",
        "          <option value=\"2002\">2002</option>\n",
        "          <option value=\"2003\">2003</option>\n",
        "          <option value=\"2004\">2004</option>\n",
        "          <option value=\"2005\">2005</option>\n",
        "          <option value=\"2006\">2006</option>\n",
        "          <option value=\"2007\">2007</option>\n",
        "          <option value=\"2008\">2008</option>\n",
        "          <option value=\"2009\">2009</option>\n",
        "          <option value=\"2010\">2010</option>\n",
        "          <option value=\"2011\">2011</option>\n",
        "          <option value=\"2012\">2012</option>\n",
        "          <option value=\"2013\">2013</option>\n",
        "          <option value=\"2014\">2014</option>\n",
        "          <option value=\"2015\">2015</option>\n",
        "          <option value=\"2016\">2016</option>\n",
        "          <option value=\"2017\">2017</option>\n",
        "          <option value=\"2018\">2018</option>\n",
        "          <option value=\"2019\">2019</option>\n",
        "          <option value=\"2020\">2020</option>\n",
        "          <option value=\"2021\">2021</option>        \n",
        "        </select>\n",
        "      </div>\n",
        "\n",
        "      <!-- population -->\n",
        "      <div class=\"form-group row\">\n",
        "        <label for=\"population\" class=\"col-3\">Population</label>\n",
        "        <input type=\"text\" class=\"form-control col-8\" name=\"population\" placeholder=\"Population\" required=\"required\" />\n",
        "      </div>\n",
        "\n",
        "      <!-- Age group -->\n",
        "      <div class=\"form-group row\">\n",
        "        <label for=\"ageGroup\" class=\"col-3\">Age Group</label>\n",
        "        <select class=\"form-control col-8\" name=\"ageGroup\" id=\"ageGroup\">\n",
        "          <option selected disabled>Choose...</option>\n",
        "          <option value=\"0\">5 to 14 year</option>\n",
        "          <option value=\"1\">15 to 24 year</option>\n",
        "          <option value=\"2\">25 to 34 year</option>\n",
        "          <option value=\"3\">35 to 54 year</option>\n",
        "          <option value=\"4\">55 to 74 year</option>\n",
        "          <option value=\"5\">Above 75 year</option>\n",
        "        </select>\n",
        "      </div>\n",
        "\n",
        "      <!-- gender -->\n",
        "      <div class=\"form-group row\">\n",
        "        <label for=\"gender\" class=\"col-3\">Gender</label>\n",
        "        <select class=\"form-control col-8\" name=\"gender\" id=\"gender\">\n",
        "          <option selected disabled>Choose...</option>\n",
        "          <option value=\"1\">Male</option>\n",
        "          <option value=\"0\">Female</option>\n",
        "        </select>\n",
        "      </div>\n",
        "\n",
        "      <!-- Generation -->\n",
        "      <div class=\"form-group row\">\n",
        "        <label for=\"generation\" class=\"col-3\">Generation</label>\n",
        "        <select class=\"form-control col-8\" name=\"generation\" id=\"generation\">\n",
        "          <option selected disabled>Choose...</option>\n",
        "          <option value=\"0\">Generation X</option>\n",
        "          <option value=\"1\">Silent</option>\n",
        "          <option value=\"2\">G.I. Generation</option>\n",
        "          <option value=\"3\">Boomers</option>\n",
        "          <option value=\"4\">Millenials</option>\n",
        "          <option value=\"5\">Generation Z</option>\n",
        "        </select>\n",
        "      </div>\n",
        "\n",
        "      <!-- Suicide per 100K -->\n",
        "      <div class=\"form-group row\">\n",
        "        <label for=\"sui_pop\" class=\"col-3\">Suicide per 100K</label>\n",
        "        <input type=\"text\" class=\"form-control col-8\" name=\"sui_pop\" placeholder=\"Suicide per 100K (ex. 6.71)\"\n",
        "          required=\"required\" />\n",
        "      </div>\n",
        "\n",
        "      <!-- gdp_per_capita -->\n",
        "      <div class=\"form-group row\">\n",
        "        <label for=\"gdp_per_capita\" class=\"col-3\">Gdp per capita</label>\n",
        "        <input type=\"text\" class=\"form-control col-8\" name=\"gdp_per_capita\" placeholder=\"Gdp per capita (ex. 796)\"\n",
        "          required=\"required\" />\n",
        "      </div>\n",
        "\n",
        "      <button type=\"submit\" style=\"background-color: rgb(3, 95, 131);\"\n",
        "        class=\"btn btn-block btn-large mt-4 col-6 text-center mx-auto text-white shadow rounded\">\n",
        "        Predict\n",
        "      </button>\n",
        "    </form>\n",
        "\n",
        "    <br />\n",
        "    <br />\n",
        "    \n",
        "  </div>\n",
        "</body>\n",
        "\n",
        "</html>"
      ],
      "execution_count": 43,
      "outputs": [
        {
          "output_type": "stream",
          "text": [
            "Overwriting templates/index.html\n"
          ],
          "name": "stdout"
        }
      ]
    },
    {
      "cell_type": "code",
      "metadata": {
        "id": "oEIJrjvXFXty"
      },
      "source": [
        "# model = pickle.load(open('/content/drive/My Drive/World Wide Suicide Prediction/suicide_prediction_model.pkl', 'rb'))"
      ],
      "execution_count": null,
      "outputs": []
    },
    {
      "cell_type": "code",
      "metadata": {
        "id": "PrQ2kIbMKqdJ",
        "outputId": "e9e5ea77-22e4-4966-8424-496038cf11e7",
        "colab": {
          "base_uri": "https://localhost:8080/"
        }
      },
      "source": [
        "import numpy as np\n",
        "from flask import Flask, request, jsonify, render_template\n",
        "import pickle\n",
        "from flask_ngrok import run_with_ngrok\n",
        "\n",
        "app = Flask(__name__, template_folder='templates')\n",
        "# app.config[\"TEMPLATES_AUTO_RELOAD\"] = True\n",
        "model = pickle.load(open('/content/drive/My Drive/World Wide Suicide Prediction/suicide_prediction_model.pkl', 'rb'))\n",
        "run_with_ngrok(app)\n",
        "\n",
        "@app.route(\"/\")\n",
        "def home():\n",
        "    return render_template('index.html')\n",
        "\n",
        "@app.route('/predict',methods=['POST'])\n",
        "def predict():\n",
        "    int_features = [float(x) for x in request.form.values()]\n",
        "    \n",
        "    final_list = []\n",
        "    final_list.append(int(int_features[0])) # country\n",
        "    final_list.append(int(int_features[1])) # year\n",
        "    final_list.append(int(int_features[2])) # population\n",
        "    final_list.append(int_features[6]) # sui_pop\n",
        "    final_list.append(int(int_features[7])) # gdp_per_capita\n",
        "    final_list.append(int(int_features[4])) # gender\n",
        "    \n",
        "    age_group = [0, 0, 0, 0, 0] # age group\n",
        "    val_age_group = int(int_features[3])\n",
        "    if val_age_group == 0: age_group[2] = 1\n",
        "    elif val_age_group == 2: age_group[0] = 1 \n",
        "    elif val_age_group == 3: age_group[1] = 1 \n",
        "    elif val_age_group == 4: age_group[3] = 1 \n",
        "    elif val_age_group == 5: age_group[4] = 1 \n",
        "    else: pass\n",
        "    final_list.extend(age_group)\n",
        "\n",
        "    generation = [0, 0, 0, 0, 0] # generation\n",
        "    val_generation = int(int_features[5])\n",
        "    if val_generation == 0: generation[1] = 1\n",
        "    elif val_generation == 1: generation[4] = 1 \n",
        "    elif val_generation == 2: generation[0] = 1 \n",
        "    elif val_generation == 4: generation[3] = 1 \n",
        "    elif val_generation == 5: generation[2] = 1 \n",
        "    else: pass\n",
        "    final_list.extend(generation)\n",
        "\n",
        "    final_features = np.array(final_list)\n",
        "    final_features = np.expand_dims(final_features, axis=0)\n",
        "    prediction = model.predict(final_features)\n",
        "    output = int(prediction[0])\n",
        "\n",
        "    return render_template('index.html', prediction_text='No of suicide : {}'.format(output))\n",
        "\n",
        "\n",
        "if __name__ == '__main__':\n",
        "    app.run()"
      ],
      "execution_count": null,
      "outputs": [
        {
          "output_type": "stream",
          "text": [
            " * Serving Flask app \"__main__\" (lazy loading)\n",
            " * Environment: production\n",
            "\u001b[31m   WARNING: This is a development server. Do not use it in a production deployment.\u001b[0m\n",
            "\u001b[2m   Use a production WSGI server instead.\u001b[0m\n",
            " * Debug mode: off\n"
          ],
          "name": "stdout"
        },
        {
          "output_type": "stream",
          "text": [
            " * Running on http://127.0.0.1:5000/ (Press CTRL+C to quit)\n"
          ],
          "name": "stderr"
        },
        {
          "output_type": "stream",
          "text": [
            " * Running on http://4724983ed3c9.ngrok.io\n",
            " * Traffic stats available on http://127.0.0.1:4040\n"
          ],
          "name": "stdout"
        },
        {
          "output_type": "stream",
          "text": [
            "127.0.0.1 - - [04/Nov/2020 02:59:56] \"\u001b[37mGET / HTTP/1.1\u001b[0m\" 200 -\n",
            "127.0.0.1 - - [04/Nov/2020 02:59:58] \"\u001b[33mGET /css/global.css HTTP/1.1\u001b[0m\" 404 -\n",
            "127.0.0.1 - - [04/Nov/2020 02:59:59] \"\u001b[33mGET /favicon.ico HTTP/1.1\u001b[0m\" 404 -\n",
            "127.0.0.1 - - [04/Nov/2020 03:02:03] \"\u001b[37mGET / HTTP/1.1\u001b[0m\" 200 -\n",
            "127.0.0.1 - - [04/Nov/2020 03:02:04] \"\u001b[33mGET /css/global.css HTTP/1.1\u001b[0m\" 404 -\n",
            "127.0.0.1 - - [04/Nov/2020 03:02:06] \"\u001b[33mGET /favicon.ico HTTP/1.1\u001b[0m\" 404 -\n",
            "127.0.0.1 - - [04/Nov/2020 03:02:43] \"\u001b[37mPOST /predict HTTP/1.1\u001b[0m\" 200 -\n",
            "127.0.0.1 - - [04/Nov/2020 03:02:52] \"\u001b[37mGET / HTTP/1.1\u001b[0m\" 200 -\n",
            "127.0.0.1 - - [04/Nov/2020 03:03:14] \"\u001b[37mPOST /predict HTTP/1.1\u001b[0m\" 200 -\n",
            "127.0.0.1 - - [04/Nov/2020 03:03:15] \"\u001b[33mGET /css/global.css HTTP/1.1\u001b[0m\" 404 -\n",
            "127.0.0.1 - - [04/Nov/2020 03:03:49] \"\u001b[37mGET / HTTP/1.1\u001b[0m\" 200 -\n",
            "127.0.0.1 - - [04/Nov/2020 03:03:49] \"\u001b[33mGET /css/global.css HTTP/1.1\u001b[0m\" 404 -\n",
            "127.0.0.1 - - [04/Nov/2020 03:03:51] \"\u001b[33mGET /favicon.ico HTTP/1.1\u001b[0m\" 404 -\n",
            "127.0.0.1 - - [04/Nov/2020 03:05:52] \"\u001b[37mPOST /predict HTTP/1.1\u001b[0m\" 200 -\n",
            "127.0.0.1 - - [04/Nov/2020 03:05:53] \"\u001b[33mGET /css/global.css HTTP/1.1\u001b[0m\" 404 -\n"
          ],
          "name": "stderr"
        }
      ]
    }
  ]
}